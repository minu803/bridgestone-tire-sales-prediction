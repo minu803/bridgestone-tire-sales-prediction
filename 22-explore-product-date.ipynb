{
 "cells": [
  {
   "cell_type": "markdown",
   "metadata": {},
   "source": [
    "# 22-explore-product-date"
   ]
  },
  {
   "cell_type": "code",
   "execution_count": 1,
   "metadata": {},
   "outputs": [],
   "source": [
    "import pandas as pd\n",
    "import numpy as np\n",
    "#import missingno as msno\n",
    "import seaborn as sns\n",
    "import matplotlib.pyplot as plt"
   ]
  },
  {
   "cell_type": "code",
   "execution_count": 2,
   "metadata": {},
   "outputs": [],
   "source": [
    "# import sys\n",
    "# !{sys.executable} -m pip install missingno"
   ]
  },
  {
   "cell_type": "markdown",
   "metadata": {},
   "source": [
    "## Load product data"
   ]
  },
  {
   "cell_type": "code",
   "execution_count": 3,
   "metadata": {},
   "outputs": [],
   "source": [
    "sales = pd.read_csv('/data/p_dsi/teams2023/bridgestone_data/data/sales_data_sample.csv', sep = ',')"
   ]
  },
  {
   "cell_type": "code",
   "execution_count": 4,
   "metadata": {},
   "outputs": [
    {
     "data": {
      "text/html": [
       "<div>\n",
       "<style scoped>\n",
       "    .dataframe tbody tr th:only-of-type {\n",
       "        vertical-align: middle;\n",
       "    }\n",
       "\n",
       "    .dataframe tbody tr th {\n",
       "        vertical-align: top;\n",
       "    }\n",
       "\n",
       "    .dataframe thead th {\n",
       "        text-align: right;\n",
       "    }\n",
       "</style>\n",
       "<table border=\"1\" class=\"dataframe\">\n",
       "  <thead>\n",
       "    <tr style=\"text-align: right;\">\n",
       "      <th></th>\n",
       "      <th>Unnamed: 0</th>\n",
       "      <th>STORE_ID</th>\n",
       "      <th>TRAN_ID</th>\n",
       "      <th>DATE</th>\n",
       "      <th>ARTICLE_ID</th>\n",
       "      <th>INDIV_ID</th>\n",
       "      <th>VEHICLE_ID</th>\n",
       "      <th>UNITS</th>\n",
       "      <th>SALES</th>\n",
       "    </tr>\n",
       "  </thead>\n",
       "  <tbody>\n",
       "    <tr>\n",
       "      <th>0</th>\n",
       "      <td>0</td>\n",
       "      <td>337934</td>\n",
       "      <td>990994590</td>\n",
       "      <td>2018-07-23</td>\n",
       "      <td>7046930</td>\n",
       "      <td>318422234.0</td>\n",
       "      <td>944814728</td>\n",
       "      <td>0.0</td>\n",
       "      <td>0.00</td>\n",
       "    </tr>\n",
       "    <tr>\n",
       "      <th>1</th>\n",
       "      <td>1</td>\n",
       "      <td>337934</td>\n",
       "      <td>990994590</td>\n",
       "      <td>2018-07-23</td>\n",
       "      <td>7001647</td>\n",
       "      <td>318422234.0</td>\n",
       "      <td>944814728</td>\n",
       "      <td>0.0</td>\n",
       "      <td>-8.55</td>\n",
       "    </tr>\n",
       "    <tr>\n",
       "      <th>2</th>\n",
       "      <td>2</td>\n",
       "      <td>337934</td>\n",
       "      <td>990994590</td>\n",
       "      <td>2018-07-23</td>\n",
       "      <td>7001715</td>\n",
       "      <td>318422234.0</td>\n",
       "      <td>944814728</td>\n",
       "      <td>0.0</td>\n",
       "      <td>-50.45</td>\n",
       "    </tr>\n",
       "    <tr>\n",
       "      <th>3</th>\n",
       "      <td>3</td>\n",
       "      <td>337934</td>\n",
       "      <td>990994590</td>\n",
       "      <td>2018-07-23</td>\n",
       "      <td>7096547</td>\n",
       "      <td>318422234.0</td>\n",
       "      <td>944814728</td>\n",
       "      <td>0.0</td>\n",
       "      <td>10.00</td>\n",
       "    </tr>\n",
       "    <tr>\n",
       "      <th>4</th>\n",
       "      <td>4</td>\n",
       "      <td>337934</td>\n",
       "      <td>990994590</td>\n",
       "      <td>2018-07-23</td>\n",
       "      <td>7001647</td>\n",
       "      <td>318422234.0</td>\n",
       "      <td>944814728</td>\n",
       "      <td>0.0</td>\n",
       "      <td>0.00</td>\n",
       "    </tr>\n",
       "  </tbody>\n",
       "</table>\n",
       "</div>"
      ],
      "text/plain": [
       "   Unnamed: 0  STORE_ID    TRAN_ID        DATE  ARTICLE_ID     INDIV_ID  \\\n",
       "0           0    337934  990994590  2018-07-23     7046930  318422234.0   \n",
       "1           1    337934  990994590  2018-07-23     7001647  318422234.0   \n",
       "2           2    337934  990994590  2018-07-23     7001715  318422234.0   \n",
       "3           3    337934  990994590  2018-07-23     7096547  318422234.0   \n",
       "4           4    337934  990994590  2018-07-23     7001647  318422234.0   \n",
       "\n",
       "   VEHICLE_ID  UNITS  SALES  \n",
       "0   944814728    0.0   0.00  \n",
       "1   944814728    0.0  -8.55  \n",
       "2   944814728    0.0 -50.45  \n",
       "3   944814728    0.0  10.00  \n",
       "4   944814728    0.0   0.00  "
      ]
     },
     "execution_count": 4,
     "metadata": {},
     "output_type": "execute_result"
    }
   ],
   "source": [
    "sales.head()"
   ]
  },
  {
   "cell_type": "code",
   "execution_count": 5,
   "metadata": {},
   "outputs": [],
   "source": [
    "df = pd.read_csv('/data/p_dsi/teams2023/bridgestone_data/data/product.csv', sep = '|')"
   ]
  },
  {
   "cell_type": "code",
   "execution_count": 6,
   "metadata": {},
   "outputs": [
    {
     "data": {
      "text/html": [
       "<div>\n",
       "<style scoped>\n",
       "    .dataframe tbody tr th:only-of-type {\n",
       "        vertical-align: middle;\n",
       "    }\n",
       "\n",
       "    .dataframe tbody tr th {\n",
       "        vertical-align: top;\n",
       "    }\n",
       "\n",
       "    .dataframe thead th {\n",
       "        text-align: right;\n",
       "    }\n",
       "</style>\n",
       "<table border=\"1\" class=\"dataframe\">\n",
       "  <thead>\n",
       "    <tr style=\"text-align: right;\">\n",
       "      <th></th>\n",
       "      <th>ARTICLE_ID</th>\n",
       "      <th>PROD_GROUP_CODE</th>\n",
       "      <th>PROD_GROUP_DESC</th>\n",
       "      <th>CATEGORY_CODE</th>\n",
       "      <th>CATEGORY_DESC</th>\n",
       "      <th>SEGMENT_CODE</th>\n",
       "      <th>SEGMENT_DESC</th>\n",
       "      <th>CLASS_CODE</th>\n",
       "      <th>CLASS_DESC</th>\n",
       "      <th>DISCOUNT_FLAG</th>\n",
       "      <th>CROSS_SECTION</th>\n",
       "      <th>ASPECT_RATIO</th>\n",
       "      <th>RIM_SIZE</th>\n",
       "    </tr>\n",
       "  </thead>\n",
       "  <tbody>\n",
       "    <tr>\n",
       "      <th>0</th>\n",
       "      <td>45438</td>\n",
       "      <td>5.0</td>\n",
       "      <td>Tires</td>\n",
       "      <td>26.0</td>\n",
       "      <td>Passenger Tires</td>\n",
       "      <td>29.0</td>\n",
       "      <td>Performance Tires</td>\n",
       "      <td>37.0</td>\n",
       "      <td>S/T Performance Tires</td>\n",
       "      <td>N</td>\n",
       "      <td>195</td>\n",
       "      <td>60</td>\n",
       "      <td>14</td>\n",
       "    </tr>\n",
       "    <tr>\n",
       "      <th>1</th>\n",
       "      <td>20257</td>\n",
       "      <td>5.0</td>\n",
       "      <td>Tires</td>\n",
       "      <td>26.0</td>\n",
       "      <td>Passenger Tires</td>\n",
       "      <td>29.0</td>\n",
       "      <td>Performance Tires</td>\n",
       "      <td>37.0</td>\n",
       "      <td>S/T Performance Tires</td>\n",
       "      <td>N</td>\n",
       "      <td>225</td>\n",
       "      <td>60</td>\n",
       "      <td>16</td>\n",
       "    </tr>\n",
       "    <tr>\n",
       "      <th>2</th>\n",
       "      <td>53872</td>\n",
       "      <td>5.0</td>\n",
       "      <td>Tires</td>\n",
       "      <td>26.0</td>\n",
       "      <td>Passenger Tires</td>\n",
       "      <td>29.0</td>\n",
       "      <td>Performance Tires</td>\n",
       "      <td>37.0</td>\n",
       "      <td>S/T Performance Tires</td>\n",
       "      <td>N</td>\n",
       "      <td>215</td>\n",
       "      <td>60</td>\n",
       "      <td>14</td>\n",
       "    </tr>\n",
       "    <tr>\n",
       "      <th>3</th>\n",
       "      <td>20192</td>\n",
       "      <td>5.0</td>\n",
       "      <td>Tires</td>\n",
       "      <td>26.0</td>\n",
       "      <td>Passenger Tires</td>\n",
       "      <td>29.0</td>\n",
       "      <td>Performance Tires</td>\n",
       "      <td>37.0</td>\n",
       "      <td>S/T Performance Tires</td>\n",
       "      <td>N</td>\n",
       "      <td>195</td>\n",
       "      <td>65</td>\n",
       "      <td>15</td>\n",
       "    </tr>\n",
       "    <tr>\n",
       "      <th>4</th>\n",
       "      <td>45500</td>\n",
       "      <td>5.0</td>\n",
       "      <td>Tires</td>\n",
       "      <td>26.0</td>\n",
       "      <td>Passenger Tires</td>\n",
       "      <td>29.0</td>\n",
       "      <td>Performance Tires</td>\n",
       "      <td>37.0</td>\n",
       "      <td>S/T Performance Tires</td>\n",
       "      <td>N</td>\n",
       "      <td>175</td>\n",
       "      <td>70</td>\n",
       "      <td>13</td>\n",
       "    </tr>\n",
       "    <tr>\n",
       "      <th>...</th>\n",
       "      <td>...</td>\n",
       "      <td>...</td>\n",
       "      <td>...</td>\n",
       "      <td>...</td>\n",
       "      <td>...</td>\n",
       "      <td>...</td>\n",
       "      <td>...</td>\n",
       "      <td>...</td>\n",
       "      <td>...</td>\n",
       "      <td>...</td>\n",
       "      <td>...</td>\n",
       "      <td>...</td>\n",
       "      <td>...</td>\n",
       "    </tr>\n",
       "    <tr>\n",
       "      <th>56837</th>\n",
       "      <td>7053192</td>\n",
       "      <td>4.0</td>\n",
       "      <td>Services</td>\n",
       "      <td>117974.0</td>\n",
       "      <td>EV/Hybrid Systems</td>\n",
       "      <td>117976.0</td>\n",
       "      <td>EV/Hybrid Inspections &amp; Services</td>\n",
       "      <td>117979.0</td>\n",
       "      <td>Other EV/Hybrid Services</td>\n",
       "      <td>N</td>\n",
       "      <td>NaN</td>\n",
       "      <td>NaN</td>\n",
       "      <td>NaN</td>\n",
       "    </tr>\n",
       "    <tr>\n",
       "      <th>56838</th>\n",
       "      <td>7001052</td>\n",
       "      <td>4.0</td>\n",
       "      <td>Services</td>\n",
       "      <td>81.0</td>\n",
       "      <td>Miscellaneous Services</td>\n",
       "      <td>115.0</td>\n",
       "      <td>Employee Discounts</td>\n",
       "      <td>508.0</td>\n",
       "      <td>Employee Discounts Services</td>\n",
       "      <td>E</td>\n",
       "      <td>NaN</td>\n",
       "      <td>NaN</td>\n",
       "      <td>NaN</td>\n",
       "    </tr>\n",
       "    <tr>\n",
       "      <th>56839</th>\n",
       "      <td>7001053</td>\n",
       "      <td>3.0</td>\n",
       "      <td>Other</td>\n",
       "      <td>6.0</td>\n",
       "      <td>Other</td>\n",
       "      <td>20580.0</td>\n",
       "      <td>Employee Tire Discount</td>\n",
       "      <td>125366.0</td>\n",
       "      <td>Teammate Best Tire Savings Discount</td>\n",
       "      <td>E</td>\n",
       "      <td>NaN</td>\n",
       "      <td>NaN</td>\n",
       "      <td>NaN</td>\n",
       "    </tr>\n",
       "    <tr>\n",
       "      <th>56840</th>\n",
       "      <td>7053195</td>\n",
       "      <td>4.0</td>\n",
       "      <td>Services</td>\n",
       "      <td>117974.0</td>\n",
       "      <td>EV/Hybrid Systems</td>\n",
       "      <td>117976.0</td>\n",
       "      <td>EV/Hybrid Inspections &amp; Services</td>\n",
       "      <td>117979.0</td>\n",
       "      <td>Other EV/Hybrid Services</td>\n",
       "      <td>N</td>\n",
       "      <td>NaN</td>\n",
       "      <td>NaN</td>\n",
       "      <td>NaN</td>\n",
       "    </tr>\n",
       "    <tr>\n",
       "      <th>56841</th>\n",
       "      <td>7053191</td>\n",
       "      <td>4.0</td>\n",
       "      <td>Services</td>\n",
       "      <td>117974.0</td>\n",
       "      <td>EV/Hybrid Systems</td>\n",
       "      <td>117976.0</td>\n",
       "      <td>EV/Hybrid Inspections &amp; Services</td>\n",
       "      <td>117979.0</td>\n",
       "      <td>Other EV/Hybrid Services</td>\n",
       "      <td>N</td>\n",
       "      <td>NaN</td>\n",
       "      <td>NaN</td>\n",
       "      <td>NaN</td>\n",
       "    </tr>\n",
       "  </tbody>\n",
       "</table>\n",
       "<p>56842 rows × 13 columns</p>\n",
       "</div>"
      ],
      "text/plain": [
       "       ARTICLE_ID  PROD_GROUP_CODE PROD_GROUP_DESC  CATEGORY_CODE  \\\n",
       "0           45438              5.0           Tires           26.0   \n",
       "1           20257              5.0           Tires           26.0   \n",
       "2           53872              5.0           Tires           26.0   \n",
       "3           20192              5.0           Tires           26.0   \n",
       "4           45500              5.0           Tires           26.0   \n",
       "...           ...              ...             ...            ...   \n",
       "56837     7053192              4.0        Services       117974.0   \n",
       "56838     7001052              4.0        Services           81.0   \n",
       "56839     7001053              3.0           Other            6.0   \n",
       "56840     7053195              4.0        Services       117974.0   \n",
       "56841     7053191              4.0        Services       117974.0   \n",
       "\n",
       "                CATEGORY_DESC  SEGMENT_CODE                      SEGMENT_DESC  \\\n",
       "0             Passenger Tires          29.0                 Performance Tires   \n",
       "1             Passenger Tires          29.0                 Performance Tires   \n",
       "2             Passenger Tires          29.0                 Performance Tires   \n",
       "3             Passenger Tires          29.0                 Performance Tires   \n",
       "4             Passenger Tires          29.0                 Performance Tires   \n",
       "...                       ...           ...                               ...   \n",
       "56837       EV/Hybrid Systems      117976.0  EV/Hybrid Inspections & Services   \n",
       "56838  Miscellaneous Services         115.0                Employee Discounts   \n",
       "56839                   Other       20580.0            Employee Tire Discount   \n",
       "56840       EV/Hybrid Systems      117976.0  EV/Hybrid Inspections & Services   \n",
       "56841       EV/Hybrid Systems      117976.0  EV/Hybrid Inspections & Services   \n",
       "\n",
       "       CLASS_CODE                           CLASS_DESC DISCOUNT_FLAG  \\\n",
       "0            37.0                S/T Performance Tires             N   \n",
       "1            37.0                S/T Performance Tires             N   \n",
       "2            37.0                S/T Performance Tires             N   \n",
       "3            37.0                S/T Performance Tires             N   \n",
       "4            37.0                S/T Performance Tires             N   \n",
       "...           ...                                  ...           ...   \n",
       "56837    117979.0             Other EV/Hybrid Services             N   \n",
       "56838       508.0          Employee Discounts Services             E   \n",
       "56839    125366.0  Teammate Best Tire Savings Discount             E   \n",
       "56840    117979.0             Other EV/Hybrid Services             N   \n",
       "56841    117979.0             Other EV/Hybrid Services             N   \n",
       "\n",
       "      CROSS_SECTION ASPECT_RATIO RIM_SIZE  \n",
       "0               195           60       14  \n",
       "1               225           60       16  \n",
       "2               215           60       14  \n",
       "3               195           65       15  \n",
       "4               175           70       13  \n",
       "...             ...          ...      ...  \n",
       "56837           NaN          NaN      NaN  \n",
       "56838           NaN          NaN      NaN  \n",
       "56839           NaN          NaN      NaN  \n",
       "56840           NaN          NaN      NaN  \n",
       "56841           NaN          NaN      NaN  \n",
       "\n",
       "[56842 rows x 13 columns]"
      ]
     },
     "execution_count": 6,
     "metadata": {},
     "output_type": "execute_result"
    }
   ],
   "source": [
    "df"
   ]
  },
  {
   "cell_type": "markdown",
   "metadata": {},
   "source": [
    "## Summary Statistics"
   ]
  },
  {
   "cell_type": "code",
   "execution_count": 7,
   "metadata": {},
   "outputs": [
    {
     "name": "stdout",
     "output_type": "stream",
     "text": [
      "<class 'pandas.core.frame.DataFrame'>\n",
      "Int64Index: 32563 entries, 0 to 56822\n",
      "Data columns (total 13 columns):\n",
      " #   Column           Non-Null Count  Dtype  \n",
      "---  ------           --------------  -----  \n",
      " 0   ARTICLE_ID       32563 non-null  int64  \n",
      " 1   PROD_GROUP_CODE  32563 non-null  float64\n",
      " 2   PROD_GROUP_DESC  32563 non-null  object \n",
      " 3   CATEGORY_CODE    32563 non-null  float64\n",
      " 4   CATEGORY_DESC    32563 non-null  object \n",
      " 5   SEGMENT_CODE     32563 non-null  float64\n",
      " 6   SEGMENT_DESC     32563 non-null  object \n",
      " 7   CLASS_CODE       32563 non-null  float64\n",
      " 8   CLASS_DESC       32563 non-null  object \n",
      " 9   DISCOUNT_FLAG    32563 non-null  object \n",
      " 10  CROSS_SECTION    31964 non-null  object \n",
      " 11  ASPECT_RATIO     31959 non-null  object \n",
      " 12  RIM_SIZE         31963 non-null  object \n",
      "dtypes: float64(4), int64(1), object(8)\n",
      "memory usage: 3.5+ MB\n"
     ]
    }
   ],
   "source": [
    "# df[\"CATEGORY_CODE\" == 44.0|\"CATEGORY_CODE\" == 26.0]\n",
    "hahahaha = df[(df[\"CATEGORY_CODE\"] == 44.0) | (df[\"CATEGORY_CODE\"] == 26.0)]\n",
    "hahahaha.info()\n",
    "#penguins.loc[(penguins.loc[:, 'bill_depth_mm'] >= 17) & (penguins.loc[:, 'bill_depth_mm'] <= 18)]\n",
    "# realized the code and desc relaionthip --> further reduce the columns "
   ]
  },
  {
   "cell_type": "code",
   "execution_count": 8,
   "metadata": {},
   "outputs": [
    {
     "name": "stdout",
     "output_type": "stream",
     "text": [
      "<class 'pandas.core.frame.DataFrame'>\n",
      "RangeIndex: 56842 entries, 0 to 56841\n",
      "Data columns (total 13 columns):\n",
      " #   Column           Non-Null Count  Dtype  \n",
      "---  ------           --------------  -----  \n",
      " 0   ARTICLE_ID       56842 non-null  int64  \n",
      " 1   PROD_GROUP_CODE  56818 non-null  float64\n",
      " 2   PROD_GROUP_DESC  56818 non-null  object \n",
      " 3   CATEGORY_CODE    56818 non-null  float64\n",
      " 4   CATEGORY_DESC    56818 non-null  object \n",
      " 5   SEGMENT_CODE     56818 non-null  float64\n",
      " 6   SEGMENT_DESC     56818 non-null  object \n",
      " 7   CLASS_CODE       56818 non-null  float64\n",
      " 8   CLASS_DESC       56818 non-null  object \n",
      " 9   DISCOUNT_FLAG    56818 non-null  object \n",
      " 10  CROSS_SECTION    35670 non-null  object \n",
      " 11  ASPECT_RATIO     35665 non-null  object \n",
      " 12  RIM_SIZE         35504 non-null  object \n",
      "dtypes: float64(4), int64(1), object(8)\n",
      "memory usage: 5.6+ MB\n"
     ]
    }
   ],
   "source": [
    "df.info()"
   ]
  },
  {
   "cell_type": "code",
   "execution_count": 9,
   "metadata": {},
   "outputs": [
    {
     "data": {
      "text/html": [
       "<div>\n",
       "<style scoped>\n",
       "    .dataframe tbody tr th:only-of-type {\n",
       "        vertical-align: middle;\n",
       "    }\n",
       "\n",
       "    .dataframe tbody tr th {\n",
       "        vertical-align: top;\n",
       "    }\n",
       "\n",
       "    .dataframe thead th {\n",
       "        text-align: right;\n",
       "    }\n",
       "</style>\n",
       "<table border=\"1\" class=\"dataframe\">\n",
       "  <thead>\n",
       "    <tr style=\"text-align: right;\">\n",
       "      <th></th>\n",
       "      <th>ARTICLE_ID</th>\n",
       "      <th>PROD_GROUP_CODE</th>\n",
       "      <th>CATEGORY_CODE</th>\n",
       "      <th>SEGMENT_CODE</th>\n",
       "      <th>CLASS_CODE</th>\n",
       "    </tr>\n",
       "  </thead>\n",
       "  <tbody>\n",
       "    <tr>\n",
       "      <th>count</th>\n",
       "      <td>5.684200e+04</td>\n",
       "      <td>56818.000000</td>\n",
       "      <td>56818.000000</td>\n",
       "      <td>56818.000000</td>\n",
       "      <td>56818.000000</td>\n",
       "    </tr>\n",
       "    <tr>\n",
       "      <th>mean</th>\n",
       "      <td>5.212672e+06</td>\n",
       "      <td>4.476979</td>\n",
       "      <td>1550.873332</td>\n",
       "      <td>6084.788905</td>\n",
       "      <td>8206.250150</td>\n",
       "    </tr>\n",
       "    <tr>\n",
       "      <th>std</th>\n",
       "      <td>3.099825e+06</td>\n",
       "      <td>0.756366</td>\n",
       "      <td>13492.723305</td>\n",
       "      <td>21480.847899</td>\n",
       "      <td>23718.348449</td>\n",
       "    </tr>\n",
       "    <tr>\n",
       "      <th>min</th>\n",
       "      <td>9.000000e+00</td>\n",
       "      <td>3.000000</td>\n",
       "      <td>6.000000</td>\n",
       "      <td>7.000000</td>\n",
       "      <td>8.000000</td>\n",
       "    </tr>\n",
       "    <tr>\n",
       "      <th>25%</th>\n",
       "      <td>3.590418e+05</td>\n",
       "      <td>4.000000</td>\n",
       "      <td>26.000000</td>\n",
       "      <td>29.000000</td>\n",
       "      <td>38.000000</td>\n",
       "    </tr>\n",
       "    <tr>\n",
       "      <th>50%</th>\n",
       "      <td>7.014038e+06</td>\n",
       "      <td>5.000000</td>\n",
       "      <td>26.000000</td>\n",
       "      <td>30.000000</td>\n",
       "      <td>42.000000</td>\n",
       "    </tr>\n",
       "    <tr>\n",
       "      <th>75%</th>\n",
       "      <td>7.085217e+06</td>\n",
       "      <td>5.000000</td>\n",
       "      <td>45.000000</td>\n",
       "      <td>103.000000</td>\n",
       "      <td>389.000000</td>\n",
       "    </tr>\n",
       "    <tr>\n",
       "      <th>max</th>\n",
       "      <td>7.012695e+07</td>\n",
       "      <td>5.000000</td>\n",
       "      <td>123641.000000</td>\n",
       "      <td>123644.000000</td>\n",
       "      <td>125366.000000</td>\n",
       "    </tr>\n",
       "  </tbody>\n",
       "</table>\n",
       "</div>"
      ],
      "text/plain": [
       "         ARTICLE_ID  PROD_GROUP_CODE  CATEGORY_CODE   SEGMENT_CODE  \\\n",
       "count  5.684200e+04     56818.000000   56818.000000   56818.000000   \n",
       "mean   5.212672e+06         4.476979    1550.873332    6084.788905   \n",
       "std    3.099825e+06         0.756366   13492.723305   21480.847899   \n",
       "min    9.000000e+00         3.000000       6.000000       7.000000   \n",
       "25%    3.590418e+05         4.000000      26.000000      29.000000   \n",
       "50%    7.014038e+06         5.000000      26.000000      30.000000   \n",
       "75%    7.085217e+06         5.000000      45.000000     103.000000   \n",
       "max    7.012695e+07         5.000000  123641.000000  123644.000000   \n",
       "\n",
       "          CLASS_CODE  \n",
       "count   56818.000000  \n",
       "mean     8206.250150  \n",
       "std     23718.348449  \n",
       "min         8.000000  \n",
       "25%        38.000000  \n",
       "50%        42.000000  \n",
       "75%       389.000000  \n",
       "max    125366.000000  "
      ]
     },
     "execution_count": 9,
     "metadata": {},
     "output_type": "execute_result"
    }
   ],
   "source": [
    "df.describe()"
   ]
  },
  {
   "cell_type": "code",
   "execution_count": 10,
   "metadata": {},
   "outputs": [],
   "source": [
    "## wouldn't really make sesne cuz they are categorical variables"
   ]
  },
  {
   "cell_type": "code",
   "execution_count": 11,
   "metadata": {},
   "outputs": [
    {
     "data": {
      "text/plain": [
       "ARTICLE_ID             0\n",
       "PROD_GROUP_CODE       24\n",
       "PROD_GROUP_DESC       24\n",
       "CATEGORY_CODE         24\n",
       "CATEGORY_DESC         24\n",
       "SEGMENT_CODE          24\n",
       "SEGMENT_DESC          24\n",
       "CLASS_CODE            24\n",
       "CLASS_DESC            24\n",
       "DISCOUNT_FLAG         24\n",
       "CROSS_SECTION      21172\n",
       "ASPECT_RATIO       21177\n",
       "RIM_SIZE           21338\n",
       "dtype: int64"
      ]
     },
     "execution_count": 11,
     "metadata": {},
     "output_type": "execute_result"
    }
   ],
   "source": [
    "df.isnull().sum()"
   ]
  },
  {
   "cell_type": "code",
   "execution_count": 12,
   "metadata": {},
   "outputs": [
    {
     "name": "stdout",
     "output_type": "stream",
     "text": [
      "# of rows of original dataframe planets:  56842\n",
      "# of rows of returned dataframe planets_new:  35500\n"
     ]
    }
   ],
   "source": [
    "# dropping rows with missing values\n",
    "df_new = df.dropna(axis=0)\n",
    "\n",
    "print('# of rows of original dataframe planets: ', len(df))\n",
    "print('# of rows of returned dataframe planets_new: ', len(df_new))"
   ]
  },
  {
   "cell_type": "code",
   "execution_count": 13,
   "metadata": {},
   "outputs": [
    {
     "data": {
      "text/plain": [
       "5.0    35495\n",
       "3.0        4\n",
       "4.0        1\n",
       "Name: PROD_GROUP_CODE, dtype: int64"
      ]
     },
     "execution_count": 13,
     "metadata": {},
     "output_type": "execute_result"
    }
   ],
   "source": [
    "df_new['PROD_GROUP_CODE'].value_counts()"
   ]
  },
  {
   "cell_type": "code",
   "execution_count": 14,
   "metadata": {},
   "outputs": [
    {
     "data": {
      "text/plain": [
       "Passenger Tires           26770\n",
       "Light Truck Tires          5189\n",
       "Others                     2852\n",
       "Motorcycle                  661\n",
       "Road Hazard                  23\n",
       "Other                         4\n",
       "Miscellaneous Services        1\n",
       "Name: CATEGORY_DESC, dtype: int64"
      ]
     },
     "execution_count": 14,
     "metadata": {},
     "output_type": "execute_result"
    }
   ],
   "source": [
    "df_new['CATEGORY_CODE'].value_counts()\n",
    "df_new['CATEGORY_DESC'].value_counts()"
   ]
  },
  {
   "cell_type": "code",
   "execution_count": 15,
   "metadata": {},
   "outputs": [
    {
     "data": {
      "text/plain": [
       "Performance Tires                   12888\n",
       "Touring                              5922\n",
       "P Metric Light Truck Tires           3822\n",
       "Recreational Tires                   2834\n",
       "Snow Tires-PS                        2164\n",
       "Commercial Tires                     1218\n",
       "P-Metric CUV/SUV                     1091\n",
       "Commercial/Recreational               960\n",
       "Agricultural Tires                    937\n",
       "Medium Truck Tires                    782\n",
       "Other Passenger Tires                 649\n",
       "Motorcycle Tire                       617\n",
       "Tubes                                 403\n",
       "Industrial Tires                      286\n",
       "Import Tires                          234\n",
       "Miscellaneous Tire Related Items      226\n",
       "Off-The-Road Tires                    218\n",
       "Snow Tires-LT                         176\n",
       "Motorcycle Tire Accessory              44\n",
       "Road Hazard                            23\n",
       "Other                                   4\n",
       "Other L/T Tires                         1\n",
       "Non-System Services                     1\n",
       "Name: SEGMENT_DESC, dtype: int64"
      ]
     },
     "execution_count": 15,
     "metadata": {},
     "output_type": "execute_result"
    }
   ],
   "source": [
    "df_new['SEGMENT_CODE'].value_counts()\n",
    "df_new['SEGMENT_DESC'].value_counts()"
   ]
  },
  {
   "cell_type": "code",
   "execution_count": 16,
   "metadata": {},
   "outputs": [
    {
     "data": {
      "text/plain": [
       "Ultra High Performance Summer        6112\n",
       "Car & Minivan All-Season             4299\n",
       "Highway Tires                        3807\n",
       "All Terrain Tires                    3351\n",
       "Performance All-Season               2854\n",
       "Snow Tires                           2164\n",
       "Touring H/V/Z Tires                  1910\n",
       "Ultra High Performance All Season     991\n",
       "CUV/SUV Highway All-Season            972\n",
       "Mass Market Tires                     934\n",
       "S/T Performance Tires                 785\n",
       "Max Traction Tires                    716\n",
       "Radial Tires                          692\n",
       "Economy Tires                         689\n",
       "Other Passenger Tires                 649\n",
       "Moto Tire                             617\n",
       "Rear Ag Tires                         485\n",
       "Highway All-Season                    449\n",
       "Tubes                                 403\n",
       "All-Terrain                           395\n",
       "Industrial Tires                      286\n",
       "UHP Competition                       236\n",
       "Import Tires                          234\n",
       "Small Off-the-Road Tires              214\n",
       "Implement Tires/Industrial            162\n",
       "Other                                 159\n",
       "Snow Tires - All Terrain LT           117\n",
       "Maximum Traction                      116\n",
       "Garden Tires                           98\n",
       "CUV/SUV All-Terrain                    91\n",
       "Front Ag Tires                         88\n",
       "Bias Tires                             79\n",
       "Misc/Discounts/Non-Inventoreable       71\n",
       "Snow Tires - Commercial LT             59\n",
       "Moto Tube                              44\n",
       "Forestry Tires                         36\n",
       "Flotation Ag Tires                     35\n",
       "CUV/SUV Sport Performance Summer       28\n",
       "Road Hazard                            23\n",
       "Stubble Stomper Tires                  19\n",
       "BS ATV TIRES                           14\n",
       "Wide Base Tires                        11\n",
       "Large Off-the-Road Tires                4\n",
       "Other L/T Tires                         1\n",
       "Other Non-System Services               1\n",
       "Name: CLASS_DESC, dtype: int64"
      ]
     },
     "execution_count": 16,
     "metadata": {},
     "output_type": "execute_result"
    }
   ],
   "source": [
    "df_new['CLASS_CODE'].value_counts()\n",
    "df_new['CLASS_DESC'].value_counts()"
   ]
  },
  {
   "cell_type": "code",
   "execution_count": 17,
   "metadata": {},
   "outputs": [
    {
     "data": {
      "text/plain": [
       "<AxesSubplot:xlabel='SEGMENT_CODE'>"
      ]
     },
     "execution_count": 17,
     "metadata": {},
     "output_type": "execute_result"
    },
    {
     "data": {
      "image/png": "[encoded data removed]",
      "text/plain": [
       "<Figure size 432x288 with 1 Axes>"
      ]
     },
     "metadata": {
      "needs_background": "light"
     },
     "output_type": "display_data"
    }
   ],
   "source": [
    "# fig, ax = plt.subplots(6, 2, figsize = (15, 13))\n",
    "# sns.boxplot(x= df_new[\"SEGMENT_CODE\"], ax = ax[0,123644])\n",
    "# sns.distplot(df_new['SEGMENT_CODE'], ax = ax[0,123644])\n",
    "sns.boxplot(x= df_new[\"SEGMENT_CODE\"])"
   ]
  },
  {
   "cell_type": "code",
   "execution_count": 18,
   "metadata": {},
   "outputs": [
    {
     "data": {
      "text/plain": [
       "<seaborn.axisgrid.PairGrid at 0x2b88ac079be0>"
      ]
     },
     "execution_count": 18,
     "metadata": {},
     "output_type": "execute_result"
    },
    {
     "data": {
      "image/png": "[encoded data removed]",
      "text/plain": [
       "<Figure size 540x540 with 12 Axes>"
      ]
     },
     "metadata": {},
     "output_type": "display_data"
    }
   ],
   "source": [
    "sns.set(rc={'figure.figsize':(11.7,8.27)})\n",
    "cData_attr = df_new.iloc[:, 1:7:2]\n",
    "sns.pairplot(cData_attr, diag_kind='kde')   "
   ]
  },
  {
   "cell_type": "code",
   "execution_count": 19,
   "metadata": {},
   "outputs": [
    {
     "data": {
      "image/png": "[encoded data removed]",
      "text/plain": [
       "<Figure size 864x576 with 6 Axes>"
      ]
     },
     "metadata": {},
     "output_type": "display_data"
    }
   ],
   "source": [
    "df_new.hist(figsize=(12,8),bins=20)\n",
    "plt.show()"
   ]
  },
  {
   "cell_type": "code",
   "execution_count": 20,
   "metadata": {},
   "outputs": [
    {
     "data": {
      "text/plain": [
       "<seaborn.axisgrid.FacetGrid at 0x2b88ae94a130>"
      ]
     },
     "execution_count": 20,
     "metadata": {},
     "output_type": "execute_result"
    },
    {
     "data": {
      "image/png": "[encoded data removed]",
      "text/plain": [
       "<Figure size 360x360 with 1 Axes>"
      ]
     },
     "metadata": {},
     "output_type": "display_data"
    }
   ],
   "source": [
    "sns.catplot(data=df_new, x='CATEGORY_CODE', kind=\"count\", palette=\"ch:.25\")"
   ]
  },
  {
   "cell_type": "code",
   "execution_count": 21,
   "metadata": {},
   "outputs": [
    {
     "data": {
      "text/plain": [
       "<seaborn.axisgrid.FacetGrid at 0x2b88acbb1eb0>"
      ]
     },
     "execution_count": 21,
     "metadata": {},
     "output_type": "execute_result"
    },
    {
     "data": {
      "image/png": "[encoded data removed]",
      "text/plain": [
       "<Figure size 360x360 with 1 Axes>"
      ]
     },
     "metadata": {},
     "output_type": "display_data"
    }
   ],
   "source": [
    "sns.catplot(data=df_new, y='SEGMENT_CODE', kind=\"count\", palette=\"ch:.25\")"
   ]
  },
  {
   "cell_type": "code",
   "execution_count": 22,
   "metadata": {},
   "outputs": [
    {
     "data": {
      "text/plain": [
       "<seaborn.axisgrid.FacetGrid at 0x2b88aec682e0>"
      ]
     },
     "execution_count": 22,
     "metadata": {},
     "output_type": "execute_result"
    },
    {
     "data": {
      "image/png": "[encoded data removed]",
      "text/plain": [
       "<Figure size 360x360 with 1 Axes>"
      ]
     },
     "metadata": {},
     "output_type": "display_data"
    }
   ],
   "source": [
    "sns.catplot(data=df_new, y='CLASS_CODE', kind=\"count\", palette=\"ch:.25\")"
   ]
  },
  {
   "cell_type": "code",
   "execution_count": 23,
   "metadata": {},
   "outputs": [
    {
     "data": {
      "image/png": "[encoded data removed]",
      "text/plain": [
       "<Figure size 720x432 with 2 Axes>"
      ]
     },
     "metadata": {},
     "output_type": "display_data"
    }
   ],
   "source": [
    "plt.figure(figsize=(10,6))\n",
    "sns.heatmap(df_new.corr(),cmap=plt.cm.Reds,annot=True)\n",
    "plt.title('Heatmap displaying the relationship betweennthe features of the data',\n",
    "         fontsize=13)\n",
    "plt.show()"
   ]
  },
  {
   "cell_type": "markdown",
   "metadata": {},
   "source": [
    "## Conclusion"
   ]
  },
  {
   "cell_type": "markdown",
   "metadata": {},
   "source": [
    "1. Found the relationship between CODE and DESC. This can further help us reduce the columns for mahcine learning process\n",
    "2. Need to think about how to deal with NA values. Droppoing wouldn't be a good idea. Also filling a mean values wouldn't help, as the data is mostly categorical variables\n",
    "3. Plotted distribution plots"
   ]
  },
  {
   "cell_type": "markdown",
   "metadata": {},
   "source": [
    "# tire sales data"
   ]
  },
  {
   "cell_type": "code",
   "execution_count": 24,
   "metadata": {},
   "outputs": [
    {
     "name": "stdout",
     "output_type": "stream",
     "text": [
      "<class 'pandas.core.frame.DataFrame'>\n",
      "Int64Index: 32563 entries, 0 to 56822\n",
      "Data columns (total 13 columns):\n",
      " #   Column           Non-Null Count  Dtype  \n",
      "---  ------           --------------  -----  \n",
      " 0   ARTICLE_ID       32563 non-null  int64  \n",
      " 1   PROD_GROUP_CODE  32563 non-null  float64\n",
      " 2   PROD_GROUP_DESC  32563 non-null  object \n",
      " 3   CATEGORY_CODE    32563 non-null  float64\n",
      " 4   CATEGORY_DESC    32563 non-null  object \n",
      " 5   SEGMENT_CODE     32563 non-null  float64\n",
      " 6   SEGMENT_DESC     32563 non-null  object \n",
      " 7   CLASS_CODE       32563 non-null  float64\n",
      " 8   CLASS_DESC       32563 non-null  object \n",
      " 9   DISCOUNT_FLAG    32563 non-null  object \n",
      " 10  CROSS_SECTION    31964 non-null  object \n",
      " 11  ASPECT_RATIO     31959 non-null  object \n",
      " 12  RIM_SIZE         31963 non-null  object \n",
      "dtypes: float64(4), int64(1), object(8)\n",
      "memory usage: 3.5+ MB\n"
     ]
    }
   ],
   "source": [
    "tire_sales = df[(df[\"CATEGORY_CODE\"] == 44.0) | (df[\"CATEGORY_CODE\"] == 26.0)]\n",
    "tire_sales.info()"
   ]
  },
  {
   "cell_type": "code",
   "execution_count": 25,
   "metadata": {},
   "outputs": [
    {
     "data": {
      "text/plain": [
       "array([  45438,   20257,   53872, ..., 7094599,   11568,   11525])"
      ]
     },
     "execution_count": 25,
     "metadata": {},
     "output_type": "execute_result"
    }
   ],
   "source": [
    "tire_sales.ARTICLE_ID.values"
   ]
  },
  {
   "cell_type": "code",
   "execution_count": 26,
   "metadata": {},
   "outputs": [],
   "source": [
    "ARTICLE_ID_list = tire_sales[\"ARTICLE_ID\"].unique().tolist()"
   ]
  },
  {
   "cell_type": "code",
   "execution_count": 27,
   "metadata": {},
   "outputs": [
    {
     "data": {
      "text/plain": [
       "32563"
      ]
     },
     "execution_count": 27,
     "metadata": {},
     "output_type": "execute_result"
    }
   ],
   "source": [
    "len(ARTICLE_ID_list)"
   ]
  },
  {
   "cell_type": "code",
   "execution_count": null,
   "metadata": {},
   "outputs": [],
   "source": []
  }
 ],
 "metadata": {
  "kernelspec": {
   "display_name": "Python 3 (ipykernel)",
   "language": "python",
   "name": "python3"
  },
  "language_info": {
   "codemirror_mode": {
    "name": "ipython",
    "version": 3
   },
   "file_extension": ".py",
   "mimetype": "text/x-python",
   "name": "python",
   "nbconvert_exporter": "python",
   "pygments_lexer": "ipython3",
   "version": "3.9.12"
  }
 },
 "nbformat": 4,
 "nbformat_minor": 2
}
