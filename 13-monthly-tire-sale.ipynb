{
 "cells": [
  {
   "cell_type": "markdown",
   "id": "a61436bf",
   "metadata": {},
   "source": [
    "# 1. Import Packages\n",
    "----------"
   ]
  },
  {
   "cell_type": "code",
   "execution_count": 21,
   "id": "298c2c82",
   "metadata": {},
   "outputs": [],
   "source": [
    "import pandas as pd\n",
    "import glob\n",
    "import os"
   ]
  },
  {
   "cell_type": "code",
   "execution_count": 22,
   "id": "8b3b6ed4",
   "metadata": {
    "scrolled": true
   },
   "outputs": [
    {
     "name": "stdout",
     "output_type": "stream",
     "text": [
      "/gpfs52/data/p_dsi/teams2023/bridgestone_data/data\n"
     ]
    }
   ],
   "source": [
    "%cd /data/p_dsi/teams2023/bridgestone_data/data/"
   ]
  },
  {
   "cell_type": "code",
   "execution_count": 23,
   "id": "98553e34",
   "metadata": {
    "scrolled": true
   },
   "outputs": [
    {
     "name": "stdout",
     "output_type": "stream",
     "text": [
      "\u001b[0m\u001b[01;32mindividual.csv\u001b[0m*         \u001b[01;32msales_20160630.csv\u001b[0m*  \u001b[01;32msales_20171130.csv\u001b[0m*\r\n",
      "\u001b[01;32mindividual_sample.csv\u001b[0m*  \u001b[01;32msales_20160731.csv\u001b[0m*  \u001b[01;32msales_20171231.csv\u001b[0m*\r\n",
      "\u001b[01;32mproduct.csv\u001b[0m*            \u001b[01;32msales_20160831.csv\u001b[0m*  \u001b[01;32msales_20180131.csv\u001b[0m*\r\n",
      "\u001b[01;32msales_20150430.csv\u001b[0m*     \u001b[01;32msales_20160930.csv\u001b[0m*  \u001b[01;32msales_20180228.csv\u001b[0m*\r\n",
      "\u001b[01;32msales_20150531.csv\u001b[0m*     \u001b[01;32msales_20161031.csv\u001b[0m*  \u001b[01;32msales_20180331.csv\u001b[0m*\r\n",
      "\u001b[01;32msales_20150630.csv\u001b[0m*     \u001b[01;32msales_20161130.csv\u001b[0m*  \u001b[01;32msales_20180430.csv\u001b[0m*\r\n",
      "\u001b[01;32msales_20150731.csv\u001b[0m*     \u001b[01;32msales_20161231.csv\u001b[0m*  \u001b[01;32msales_20180531.csv\u001b[0m*\r\n",
      "\u001b[01;32msales_20150831.csv\u001b[0m*     \u001b[01;32msales_20170131.csv\u001b[0m*  \u001b[01;32msales_20180630.csv\u001b[0m*\r\n",
      "\u001b[01;32msales_20150930.csv\u001b[0m*     \u001b[01;32msales_20170228.csv\u001b[0m*  \u001b[01;32msales_20180731.csv\u001b[0m*\r\n",
      "\u001b[01;32msales_20151031.csv\u001b[0m*     \u001b[01;32msales_20170331.csv\u001b[0m*  \u001b[01;32msales_20180831.csv\u001b[0m*\r\n",
      "\u001b[01;32msales_20151130.csv\u001b[0m*     \u001b[01;32msales_20170430.csv\u001b[0m*  \u001b[01;32msales_20180930.csv\u001b[0m*\r\n",
      "\u001b[01;32msales_20151231.csv\u001b[0m*     \u001b[01;32msales_20170531.csv\u001b[0m*  \u001b[01;32msales_20181031.csv\u001b[0m*\r\n",
      "\u001b[01;32msales_20160131.csv\u001b[0m*     \u001b[01;32msales_20170630.csv\u001b[0m*  \u001b[01;32msales_data_sample.csv\u001b[0m*\r\n",
      "\u001b[01;32msales_20160229.csv\u001b[0m*     \u001b[01;32msales_20170731.csv\u001b[0m*  \u001b[01;32mstore.csv\u001b[0m*\r\n",
      "\u001b[01;32msales_20160331.csv\u001b[0m*     \u001b[01;32msales_20170831.csv\u001b[0m*  \u001b[01;32mvehicle.csv\u001b[0m*\r\n",
      "\u001b[01;32msales_20160430.csv\u001b[0m*     \u001b[01;32msales_20170930.csv\u001b[0m*  \u001b[01;32mvehicle_sample.csv\u001b[0m*\r\n",
      "\u001b[01;32msales_20160531.csv\u001b[0m*     \u001b[01;32msales_20171031.csv\u001b[0m*\r\n"
     ]
    }
   ],
   "source": [
    "%ls"
   ]
  },
  {
   "cell_type": "markdown",
   "id": "91adfab2",
   "metadata": {},
   "source": [
    "# 2. Extract all ARTICLE_IDs that are relative to tire sales\n",
    "----------------------"
   ]
  },
  {
   "cell_type": "code",
   "execution_count": 24,
   "id": "83688266",
   "metadata": {},
   "outputs": [],
   "source": [
    "product = pd.read_csv('product.csv', sep = '|')"
   ]
  },
  {
   "cell_type": "code",
   "execution_count": 25,
   "id": "ca6d0612",
   "metadata": {
    "scrolled": true
   },
   "outputs": [],
   "source": [
    "tire_sales = product[(product[\"CATEGORY_CODE\"] == 44.0) | (product[\"CATEGORY_CODE\"] == 26.0)]"
   ]
  },
  {
   "cell_type": "code",
   "execution_count": 26,
   "id": "4564baec",
   "metadata": {},
   "outputs": [],
   "source": [
    "ARTICLE_ID_list = tire_sales[\"ARTICLE_ID\"].unique().tolist()"
   ]
  },
  {
   "cell_type": "markdown",
   "id": "ef69cc28",
   "metadata": {},
   "source": [
    "# 3. Get the path for every monthly sale.csv\n",
    "--------"
   ]
  },
  {
   "cell_type": "code",
   "execution_count": 33,
   "id": "7d8edc56",
   "metadata": {},
   "outputs": [
    {
     "name": "stdout",
     "output_type": "stream",
     "text": [
      "['sales_20180731.csv', 'sales_20150731.csv', 'sales_20170831.csv', 'sales_20170731.csv', 'sales_20150531.csv', 'sales_20160131.csv', 'sales_20151130.csv', 'sales_20170531.csv', 'sales_20160331.csv', 'sales_20170228.csv', 'sales_20160930.csv', 'sales_20170131.csv', 'sales_20180831.csv', 'sales_20160430.csv', 'sales_20170331.csv', 'sales_20171031.csv', 'sales_20180531.csv', 'sales_20160831.csv', 'sales_20170630.csv', 'sales_20161031.csv', 'sales_20160630.csv', 'sales_20170930.csv', 'sales_20180430.csv', 'sales_20161231.csv', 'sales_20171231.csv', 'sales_20180630.csv', 'sales_20180228.csv', 'sales_20180131.csv', 'sales_20160731.csv', 'sales_20170430.csv', 'sales_20150430.csv', 'sales_20181031.csv', 'sales_20161130.csv', 'sales_20180930.csv', 'sales_20150930.csv', 'sales_20150831.csv', 'sales_20160531.csv', 'sales_20151031.csv', 'sales_20180331.csv', 'sales_20160229.csv', 'sales_20151231.csv', 'sales_20150630.csv', 'sales_20171130.csv']\n",
      "43\n"
     ]
    }
   ],
   "source": [
    "paths = glob.glob('/data/p_dsi/teams2023/bridgestone_data/data/*sales_201*.csv')\n",
    "\n",
    "csv_files = []\n",
    "\n",
    "#for path in paths:\n",
    "for file in os.listdir(\"/data/p_dsi/teams2023/bridgestone_data/data\"):\n",
    "    if file.startswith('sales_201'):\n",
    "        csv_files.append(file)\n",
    "\n",
    "print(csv_files)\n",
    "print(len(csv_files))"
   ]
  },
  {
   "cell_type": "markdown",
   "id": "6d92dad5",
   "metadata": {},
   "source": [
    "# 4. Write out monthly tire sales\n",
    "-----------"
   ]
  },
  {
   "cell_type": "code",
   "execution_count": 36,
   "id": "85ca9fb3",
   "metadata": {},
   "outputs": [
    {
     "name": "stdout",
     "output_type": "stream",
     "text": [
      "/data/p_dsi/teams2023/team7/tire_sales_20180731.csv\n",
      "/data/p_dsi/teams2023/team7/tire_sales_20150731.csv\n",
      "/data/p_dsi/teams2023/team7/tire_sales_20170831.csv\n",
      "/data/p_dsi/teams2023/team7/tire_sales_20170731.csv\n",
      "/data/p_dsi/teams2023/team7/tire_sales_20150531.csv\n",
      "/data/p_dsi/teams2023/team7/tire_sales_20160131.csv\n",
      "/data/p_dsi/teams2023/team7/tire_sales_20151130.csv\n",
      "/data/p_dsi/teams2023/team7/tire_sales_20170531.csv\n",
      "/data/p_dsi/teams2023/team7/tire_sales_20160331.csv\n",
      "/data/p_dsi/teams2023/team7/tire_sales_20170228.csv\n",
      "/data/p_dsi/teams2023/team7/tire_sales_20160930.csv\n",
      "/data/p_dsi/teams2023/team7/tire_sales_20170131.csv\n",
      "/data/p_dsi/teams2023/team7/tire_sales_20180831.csv\n",
      "/data/p_dsi/teams2023/team7/tire_sales_20160430.csv\n",
      "/data/p_dsi/teams2023/team7/tire_sales_20170331.csv\n",
      "/data/p_dsi/teams2023/team7/tire_sales_20171031.csv\n",
      "/data/p_dsi/teams2023/team7/tire_sales_20180531.csv\n",
      "/data/p_dsi/teams2023/team7/tire_sales_20160831.csv\n",
      "/data/p_dsi/teams2023/team7/tire_sales_20170630.csv\n",
      "/data/p_dsi/teams2023/team7/tire_sales_20161031.csv\n",
      "/data/p_dsi/teams2023/team7/tire_sales_20160630.csv\n",
      "/data/p_dsi/teams2023/team7/tire_sales_20170930.csv\n",
      "/data/p_dsi/teams2023/team7/tire_sales_20180430.csv\n",
      "/data/p_dsi/teams2023/team7/tire_sales_20161231.csv\n",
      "/data/p_dsi/teams2023/team7/tire_sales_20171231.csv\n",
      "/data/p_dsi/teams2023/team7/tire_sales_20180630.csv\n",
      "/data/p_dsi/teams2023/team7/tire_sales_20180228.csv\n",
      "/data/p_dsi/teams2023/team7/tire_sales_20180131.csv\n",
      "/data/p_dsi/teams2023/team7/tire_sales_20160731.csv\n",
      "/data/p_dsi/teams2023/team7/tire_sales_20170430.csv\n",
      "/data/p_dsi/teams2023/team7/tire_sales_20150430.csv\n",
      "/data/p_dsi/teams2023/team7/tire_sales_20181031.csv\n",
      "/data/p_dsi/teams2023/team7/tire_sales_20161130.csv\n",
      "/data/p_dsi/teams2023/team7/tire_sales_20180930.csv\n",
      "/data/p_dsi/teams2023/team7/tire_sales_20150930.csv\n",
      "/data/p_dsi/teams2023/team7/tire_sales_20150831.csv\n",
      "/data/p_dsi/teams2023/team7/tire_sales_20160531.csv\n",
      "/data/p_dsi/teams2023/team7/tire_sales_20151031.csv\n",
      "/data/p_dsi/teams2023/team7/tire_sales_20180331.csv\n",
      "/data/p_dsi/teams2023/team7/tire_sales_20160229.csv\n",
      "/data/p_dsi/teams2023/team7/tire_sales_20151231.csv\n",
      "/data/p_dsi/teams2023/team7/tire_sales_20150630.csv\n",
      "/data/p_dsi/teams2023/team7/tire_sales_20171130.csv\n"
     ]
    }
   ],
   "source": [
    "for file_name in csv_files:\n",
    "    in_path = \"/data/p_dsi/teams2023/bridgestone_data/data/\" + file_name\n",
    "    sales = pd.read_csv(in_path, sep = \"|\")\n",
    "    tire_sales = sales[sales['ARTICLE_ID'].isin(ARTICLE_ID_list)]\n",
    "    out_path = \"/data/p_dsi/teams2023/team7/tire_\" + file_name\n",
    "    print(out_path)\n",
    "    tire_sales.to_csv(out_path)"
   ]
  }
 ],
 "metadata": {
  "kernelspec": {
   "display_name": "Python 3 (ipykernel)",
   "language": "python",
   "name": "python3"
  },
  "language_info": {
   "codemirror_mode": {
    "name": "ipython",
    "version": 3
   },
   "file_extension": ".py",
   "mimetype": "text/x-python",
   "name": "python",
   "nbconvert_exporter": "python",
   "pygments_lexer": "ipython3",
   "version": "3.8.10"
  }
 },
 "nbformat": 4,
 "nbformat_minor": 5
}
