{
 "cells": [
  {
   "cell_type": "markdown",
   "id": "f7bc2ba9",
   "metadata": {},
   "source": [
    "## 1. Import packages"
   ]
  },
  {
   "cell_type": "code",
   "execution_count": null,
   "id": "82bcbeb2",
   "metadata": {},
   "outputs": [],
   "source": [
    "import pandas as pd\n",
    "import glob\n",
    "import os\n",
    "import time"
   ]
  },
  {
   "cell_type": "code",
   "execution_count": 2,
   "id": "97e6b9e2",
   "metadata": {},
   "outputs": [
    {
     "name": "stdout",
     "output_type": "stream",
     "text": [
      "/gpfs52/data/p_dsi/teams2023/team7/remove-duplicates\n"
     ]
    }
   ],
   "source": [
    "%cd /data/p_dsi/teams2023/team7/remove-duplicates/"
   ]
  },
  {
   "cell_type": "markdown",
   "id": "10562a52",
   "metadata": {},
   "source": [
    "## 2. Subset tire sales"
   ]
  },
  {
   "cell_type": "markdown",
   "id": "014e70b6",
   "metadata": {},
   "source": [
    "### 2.1 Subset by CATEGORY_CODE"
   ]
  },
  {
   "cell_type": "code",
   "execution_count": 4,
   "id": "6b5f309d",
   "metadata": {},
   "outputs": [],
   "source": [
    "product = pd.read_csv('/data/p_dsi/teams2023/bridgestone_data/data/product.csv', sep = '|')"
   ]
  },
  {
   "cell_type": "code",
   "execution_count": 5,
   "id": "b1c4ff5f",
   "metadata": {},
   "outputs": [],
   "source": [
    "tire_sales = product[(product[\"CATEGORY_CODE\"] == 44.0) | (product[\"CATEGORY_CODE\"] == 26.0)]"
   ]
  },
  {
   "cell_type": "markdown",
   "id": "3f72947c",
   "metadata": {},
   "source": [
    "### 2.2 Get all the ariticle_ids for tire sales"
   ]
  },
  {
   "cell_type": "code",
   "execution_count": 6,
   "id": "3496404b",
   "metadata": {},
   "outputs": [],
   "source": [
    "ARTICLE_ID_list = tire_sales[\"ARTICLE_ID\"].unique().tolist()"
   ]
  },
  {
   "cell_type": "code",
   "execution_count": 8,
   "id": "3ffd707d",
   "metadata": {},
   "outputs": [],
   "source": [
    "csv_files = ['sales_20171130.csv','sales_20171231.csv']"
   ]
  },
  {
   "cell_type": "code",
   "execution_count": 9,
   "id": "9bfa1299",
   "metadata": {},
   "outputs": [],
   "source": [
    "master_tire_sales_2017 = pd.DataFrame()\n",
    "for file in csv_files:\n",
    "    sales_2017 = pd.read_csv(file)\n",
    "    sales_small = sales_2017[[\"ARTICLE_ID\", \"UNITS\"]]\n",
    "    tire_sales_2017 = sales_small[sales_small['ARTICLE_ID'].isin(ARTICLE_ID_list)]\n",
    "    df = tire_sales_2017.groupby(by=[\"ARTICLE_ID\"]).sum()\n",
    "    master_tire_sales_2017 = pd.concat([master_tire_sales_2017, df])"
   ]
  },
  {
   "cell_type": "code",
   "execution_count": 10,
   "id": "52f92ecd",
   "metadata": {},
   "outputs": [
    {
     "name": "stdout",
     "output_type": "stream",
     "text": [
      "<class 'pandas.core.frame.DataFrame'>\n",
      "Int64Index: 7087 entries, 9 to 7099819\n",
      "Data columns (total 1 columns):\n",
      " #   Column  Non-Null Count  Dtype  \n",
      "---  ------  --------------  -----  \n",
      " 0   UNITS   7087 non-null   float64\n",
      "dtypes: float64(1)\n",
      "memory usage: 110.7 KB\n"
     ]
    }
   ],
   "source": [
    "master_tire_sales_2017.info()"
   ]
  },
  {
   "cell_type": "code",
   "execution_count": 11,
   "id": "412576d0",
   "metadata": {},
   "outputs": [
    {
     "name": "stdout",
     "output_type": "stream",
     "text": [
      "<class 'pandas.core.frame.DataFrame'>\n",
      "Int64Index: 4145 entries, 9 to 7099982\n",
      "Data columns (total 1 columns):\n",
      " #   Column  Non-Null Count  Dtype  \n",
      "---  ------  --------------  -----  \n",
      " 0   UNITS   4145 non-null   float64\n",
      "dtypes: float64(1)\n",
      "memory usage: 64.8 KB\n"
     ]
    }
   ],
   "source": [
    "master_tire_sales_2017 = master_tire_sales_2017.groupby(by=[\"ARTICLE_ID\"]).sum()\n",
    "master_tire_sales_2017.info()"
   ]
  },
  {
   "cell_type": "code",
   "execution_count": 12,
   "id": "e97d9e22",
   "metadata": {},
   "outputs": [],
   "source": [
    "csv_files = glob.glob('*sales_2018*.csv')"
   ]
  },
  {
   "cell_type": "code",
   "execution_count": 17,
   "id": "1267d3c0",
   "metadata": {},
   "outputs": [
    {
     "name": "stdout",
     "output_type": "stream",
     "text": [
      "sales_20180731.csv\n",
      "sales_20180831.csv\n",
      "sales_20180531.csv\n",
      "sales_20180430.csv\n",
      "sales_20180630.csv\n",
      "sales_20180228.csv\n",
      "sales_20180131.csv\n",
      "sales_20181031.csv\n",
      "sales_20180930.csv\n",
      "sales_20180331.csv\n"
     ]
    }
   ],
   "source": [
    "master_tire_sales_2018 = pd.DataFrame()\n",
    "for file in csv_files:\n",
    "    sales_2018 = pd.read_csv(file)\n",
    "    print(file)\n",
    "    sales_small = sales_2018[[\"ARTICLE_ID\", \"UNITS\"]]\n",
    "    tire_sales_2018 = sales_small[sales_small['ARTICLE_ID'].isin(ARTICLE_ID_list)]\n",
    "    df = tire_sales_2018.groupby(by=[\"ARTICLE_ID\"]).sum()\n",
    "    master_tire_sales_2018 = pd.concat([master_tire_sales_2018, df])"
   ]
  },
  {
   "cell_type": "code",
   "execution_count": 18,
   "id": "38fcc578",
   "metadata": {},
   "outputs": [
    {
     "name": "stdout",
     "output_type": "stream",
     "text": [
      "<class 'pandas.core.frame.DataFrame'>\n",
      "Int64Index: 39146 entries, 9 to 7099847\n",
      "Data columns (total 1 columns):\n",
      " #   Column  Non-Null Count  Dtype  \n",
      "---  ------  --------------  -----  \n",
      " 0   UNITS   39146 non-null  float64\n",
      "dtypes: float64(1)\n",
      "memory usage: 611.7 KB\n"
     ]
    }
   ],
   "source": [
    "master_tire_sales_2018.info()"
   ]
  },
  {
   "cell_type": "markdown",
   "id": "bd179c55",
   "metadata": {},
   "source": [
    "### 2.3 Get the article_ids whose sales are greater than 5000 from 2017 to 2018"
   ]
  },
  {
   "cell_type": "code",
   "execution_count": 19,
   "id": "3041fd0b",
   "metadata": {},
   "outputs": [
    {
     "name": "stdout",
     "output_type": "stream",
     "text": [
      "<class 'pandas.core.frame.DataFrame'>\n",
      "Int64Index: 420 entries, 33 to 7099817\n",
      "Data columns (total 1 columns):\n",
      " #   Column  Non-Null Count  Dtype  \n",
      "---  ------  --------------  -----  \n",
      " 0   UNITS   420 non-null    float64\n",
      "dtypes: float64(1)\n",
      "memory usage: 6.6 KB\n"
     ]
    }
   ],
   "source": [
    "unit_tire_sales_year = pd.concat([master_tire_sales_2017, master_tire_sales_2018])\n",
    "unit_tire_sales_year = unit_tire_sales_year.groupby(by=[\"ARTICLE_ID\"]).sum()\n",
    "\n",
    "unit_tire_sales_year = unit_tire_sales_year.loc[unit_tire_sales_year['UNITS'] > 5000]\n",
    "unit_tire_sales_year.info()"
   ]
  },
  {
   "cell_type": "markdown",
   "id": "1644d806",
   "metadata": {},
   "source": [
    "### 2.4 Save the aritcle_id list"
   ]
  },
  {
   "cell_type": "code",
   "execution_count": 20,
   "id": "25f0e410",
   "metadata": {},
   "outputs": [],
   "source": [
    "#save the final result in csv file\n",
    "unit_tire_sales_year.to_csv(\"/data/p_dsi/teams2023/team7/no_duplicate_tire_sales_article_id_and_total_units_last_12_months.csv\")"
   ]
  },
  {
   "cell_type": "code",
   "execution_count": 4,
   "id": "e52458f1",
   "metadata": {},
   "outputs": [],
   "source": [
    "article_id_units = pd.read_csv(\"/data/p_dsi/teams2023/team7/no_duplicate_tire_sales_article_id_and_total_units_last_12_months.csv\", sep = ',')\n",
    "article_ids = article_id_units[\"ARTICLE_ID\"].tolist()"
   ]
  },
  {
   "cell_type": "code",
   "execution_count": 5,
   "id": "a918cc88",
   "metadata": {},
   "outputs": [
    {
     "data": {
      "text/plain": [
       "420"
      ]
     },
     "execution_count": 5,
     "metadata": {},
     "output_type": "execute_result"
    }
   ],
   "source": [
    "len(article_ids)"
   ]
  },
  {
   "cell_type": "markdown",
   "id": "14ce0222",
   "metadata": {},
   "source": [
    "## 3. Save the final_sales CSVs for tire sales."
   ]
  },
  {
   "cell_type": "code",
   "execution_count": 6,
   "id": "6189f845",
   "metadata": {},
   "outputs": [
    {
     "name": "stdout",
     "output_type": "stream",
     "text": [
      "['sales_20180731.csv', 'sales_20150731.csv', 'sales_20170831.csv', 'sales_20170731.csv', 'sales_20150531.csv', 'sales_20160131.csv', 'sales_20151130.csv', 'sales_20170531.csv', 'sales_20160331.csv', 'sales_20170228.csv', 'sales_20160930.csv', 'sales_20170131.csv', 'sales_20180831.csv', 'sales_20160430.csv', 'sales_20170331.csv', 'sales_20171031.csv', 'sales_20180531.csv', 'sales_20160831.csv', 'sales_20170630.csv', 'sales_20161031.csv', 'sales_20160630.csv', 'sales_20170930.csv', 'sales_20180430.csv', 'sales_20161231.csv', 'sales_20171231.csv', 'sales_20180630.csv', 'sales_20180228.csv', 'sales_20180131.csv', 'sales_20160731.csv', 'sales_20170430.csv', 'sales_20150430.csv', 'sales_20181031.csv', 'sales_20161130.csv', 'sales_20180930.csv', 'sales_20150930.csv', 'sales_20150831.csv', 'sales_20160531.csv', 'sales_20151031.csv', 'sales_20180331.csv', 'sales_20160229.csv', 'sales_20151231.csv', 'sales_20150630.csv', 'sales_20171130.csv']\n",
      "43\n"
     ]
    }
   ],
   "source": [
    "csv_files = []\n",
    "\n",
    "for file in os.listdir(\"/data/p_dsi/teams2023/team7/remove-duplicates/\"):\n",
    "    if file.startswith('sales_201'):\n",
    "        csv_files.append(file)\n",
    "\n",
    "print(csv_files)\n",
    "print(len(csv_files))"
   ]
  },
  {
   "cell_type": "code",
   "execution_count": 7,
   "id": "e24e7ee3",
   "metadata": {},
   "outputs": [
    {
     "name": "stdout",
     "output_type": "stream",
     "text": [
      "/data/p_dsi/teams2023/team7/no_duplicate_final_sales_20180731.csv\n",
      "/data/p_dsi/teams2023/team7/no_duplicate_final_sales_20150731.csv\n",
      "/data/p_dsi/teams2023/team7/no_duplicate_final_sales_20170831.csv\n",
      "/data/p_dsi/teams2023/team7/no_duplicate_final_sales_20170731.csv\n",
      "/data/p_dsi/teams2023/team7/no_duplicate_final_sales_20150531.csv\n",
      "/data/p_dsi/teams2023/team7/no_duplicate_final_sales_20160131.csv\n",
      "/data/p_dsi/teams2023/team7/no_duplicate_final_sales_20151130.csv\n",
      "/data/p_dsi/teams2023/team7/no_duplicate_final_sales_20170531.csv\n",
      "/data/p_dsi/teams2023/team7/no_duplicate_final_sales_20160331.csv\n",
      "/data/p_dsi/teams2023/team7/no_duplicate_final_sales_20170228.csv\n",
      "/data/p_dsi/teams2023/team7/no_duplicate_final_sales_20160930.csv\n",
      "/data/p_dsi/teams2023/team7/no_duplicate_final_sales_20170131.csv\n",
      "/data/p_dsi/teams2023/team7/no_duplicate_final_sales_20180831.csv\n",
      "/data/p_dsi/teams2023/team7/no_duplicate_final_sales_20160430.csv\n",
      "/data/p_dsi/teams2023/team7/no_duplicate_final_sales_20170331.csv\n",
      "/data/p_dsi/teams2023/team7/no_duplicate_final_sales_20171031.csv\n",
      "/data/p_dsi/teams2023/team7/no_duplicate_final_sales_20180531.csv\n",
      "/data/p_dsi/teams2023/team7/no_duplicate_final_sales_20160831.csv\n",
      "/data/p_dsi/teams2023/team7/no_duplicate_final_sales_20170630.csv\n",
      "/data/p_dsi/teams2023/team7/no_duplicate_final_sales_20161031.csv\n",
      "/data/p_dsi/teams2023/team7/no_duplicate_final_sales_20160630.csv\n",
      "/data/p_dsi/teams2023/team7/no_duplicate_final_sales_20170930.csv\n",
      "/data/p_dsi/teams2023/team7/no_duplicate_final_sales_20180430.csv\n",
      "/data/p_dsi/teams2023/team7/no_duplicate_final_sales_20161231.csv\n",
      "/data/p_dsi/teams2023/team7/no_duplicate_final_sales_20171231.csv\n",
      "/data/p_dsi/teams2023/team7/no_duplicate_final_sales_20180630.csv\n",
      "/data/p_dsi/teams2023/team7/no_duplicate_final_sales_20180228.csv\n",
      "/data/p_dsi/teams2023/team7/no_duplicate_final_sales_20180131.csv\n",
      "/data/p_dsi/teams2023/team7/no_duplicate_final_sales_20160731.csv\n",
      "/data/p_dsi/teams2023/team7/no_duplicate_final_sales_20170430.csv\n",
      "/data/p_dsi/teams2023/team7/no_duplicate_final_sales_20150430.csv\n",
      "/data/p_dsi/teams2023/team7/no_duplicate_final_sales_20181031.csv\n",
      "/data/p_dsi/teams2023/team7/no_duplicate_final_sales_20161130.csv\n",
      "/data/p_dsi/teams2023/team7/no_duplicate_final_sales_20180930.csv\n",
      "/data/p_dsi/teams2023/team7/no_duplicate_final_sales_20150930.csv\n",
      "/data/p_dsi/teams2023/team7/no_duplicate_final_sales_20150831.csv\n",
      "/data/p_dsi/teams2023/team7/no_duplicate_final_sales_20160531.csv\n",
      "/data/p_dsi/teams2023/team7/no_duplicate_final_sales_20151031.csv\n",
      "/data/p_dsi/teams2023/team7/no_duplicate_final_sales_20180331.csv\n",
      "/data/p_dsi/teams2023/team7/no_duplicate_final_sales_20160229.csv\n",
      "/data/p_dsi/teams2023/team7/no_duplicate_final_sales_20151231.csv\n",
      "/data/p_dsi/teams2023/team7/no_duplicate_final_sales_20150630.csv\n",
      "/data/p_dsi/teams2023/team7/no_duplicate_final_sales_20171130.csv\n",
      "time_passed: 3949.5889167785645\n"
     ]
    }
   ],
   "source": [
    "start_time = time.time()\n",
    "no_duplicate_final_sales_dict = dict()\n",
    "\n",
    "for file_name in csv_files:\n",
    "    in_path = \"/data/p_dsi/teams2023/team7/remove-duplicates/\" + file_name\n",
    "    sales = pd.read_csv(in_path)\n",
    "    no_duplicate_final_sales = sales[sales['ARTICLE_ID'].isin(article_ids)]\n",
    "    no_duplicate_final_sales_dict[file_name] = no_duplicate_final_sales\n",
    "    out_path = \"/data/p_dsi/teams2023/team7/no_duplicate_final_\" + file_name\n",
    "    print(out_path)\n",
    "    no_duplicate_final_sales.to_csv(out_path)\n",
    "\n",
    "end_time = time.time()\n",
    "time_passed = end_time - start_time\n",
    "print(\"time_passed:\", time_passed)"
   ]
  },
  {
   "cell_type": "code",
   "execution_count": 8,
   "id": "b9c42b93",
   "metadata": {},
   "outputs": [
    {
     "data": {
      "text/plain": [
       "[None, None, None, None]"
      ]
     },
     "execution_count": 8,
     "metadata": {},
     "output_type": "execute_result"
    }
   ],
   "source": [
    "years = [2015, 2016, 2017, 2018]\n",
    "[pd.concat([no_duplicate_final_sales_dict[key] for key in no_duplicate_final_sales_dict.keys() if key.startswith(\"sales_{}\".format(year))]).to_csv(\"/data/p_dsi/teams2023/team7/no_duplicate_final_sales_{}.csv\".format(year)) for year in years]"
   ]
  },
  {
   "cell_type": "code",
   "execution_count": 9,
   "id": "5e91321b",
   "metadata": {},
   "outputs": [],
   "source": [
    "pd.concat(no_duplicate_final_sales_dict.values()).to_csv(\"/data/p_dsi/teams2023/team7/no_duplicate_final_sales.csv\")"
   ]
  }
 ],
 "metadata": {
  "kernelspec": {
   "display_name": "Python 3 (ipykernel)",
   "language": "python",
   "name": "python3"
  },
  "language_info": {
   "codemirror_mode": {
    "name": "ipython",
    "version": 3
   },
   "file_extension": ".py",
   "mimetype": "text/x-python",
   "name": "python",
   "nbconvert_exporter": "python",
   "pygments_lexer": "ipython3",
   "version": "3.9.12"
  }
 },
 "nbformat": 4,
 "nbformat_minor": 5
}
