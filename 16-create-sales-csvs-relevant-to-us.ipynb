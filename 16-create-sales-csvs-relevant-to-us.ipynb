{
 "cells": [
  {
   "cell_type": "markdown",
   "id": "f4d6db9e",
   "metadata": {},
   "source": [
    "### Imports"
   ]
  },
  {
   "cell_type": "code",
   "execution_count": 9,
   "id": "3b8294c8",
   "metadata": {},
   "outputs": [],
   "source": [
    "import pandas as pd\n",
    "import os\n",
    "import time"
   ]
  },
  {
   "cell_type": "markdown",
   "id": "950f0ea0",
   "metadata": {},
   "source": [
    "### Get the article_id list that we need"
   ]
  },
  {
   "cell_type": "code",
   "execution_count": 4,
   "id": "22ad5eb2",
   "metadata": {},
   "outputs": [],
   "source": [
    "article_id_units = pd.read_csv(\"/data/p_dsi/teams2023/team7/tire_sales_article_id_and_total_units_last_12_months.csv\", sep = ',')\n",
    "article_ids = article_id_units[\"ARTICLE_ID\"].tolist()"
   ]
  },
  {
   "cell_type": "code",
   "execution_count": 6,
   "id": "f68a8778",
   "metadata": {},
   "outputs": [
    {
     "data": {
      "text/plain": [
       "435"
      ]
     },
     "execution_count": 6,
     "metadata": {},
     "output_type": "execute_result"
    }
   ],
   "source": [
    "len(article_ids)"
   ]
  },
  {
   "cell_type": "markdown",
   "id": "11f8f424",
   "metadata": {},
   "source": [
    "### Get all the sales file names"
   ]
  },
  {
   "cell_type": "code",
   "execution_count": 2,
   "id": "828369e9",
   "metadata": {},
   "outputs": [
    {
     "name": "stdout",
     "output_type": "stream",
     "text": [
      "['sales_20180731.csv', 'sales_20150731.csv', 'sales_20170831.csv', 'sales_20170731.csv', 'sales_20150531.csv', 'sales_20160131.csv', 'sales_20151130.csv', 'sales_20170531.csv', 'sales_20160331.csv', 'sales_20170228.csv', 'sales_20160930.csv', 'sales_20170131.csv', 'sales_20180831.csv', 'sales_20160430.csv', 'sales_20170331.csv', 'sales_20171031.csv', 'sales_20180531.csv', 'sales_20160831.csv', 'sales_20170630.csv', 'sales_20161031.csv', 'sales_20160630.csv', 'sales_20170930.csv', 'sales_20180430.csv', 'sales_20161231.csv', 'sales_20171231.csv', 'sales_20180630.csv', 'sales_20180228.csv', 'sales_20180131.csv', 'sales_20160731.csv', 'sales_20170430.csv', 'sales_20150430.csv', 'sales_20181031.csv', 'sales_20161130.csv', 'sales_20180930.csv', 'sales_20150930.csv', 'sales_20150831.csv', 'sales_20160531.csv', 'sales_20151031.csv', 'sales_20180331.csv', 'sales_20160229.csv', 'sales_20151231.csv', 'sales_20150630.csv', 'sales_20171130.csv']\n",
      "43\n"
     ]
    }
   ],
   "source": [
    "csv_files = []\n",
    "\n",
    "for file in os.listdir(\"/data/p_dsi/teams2023/bridgestone_data/data\"):\n",
    "    if file.startswith('sales_201'):\n",
    "        csv_files.append(file)\n",
    "\n",
    "print(csv_files)\n",
    "print(len(csv_files))"
   ]
  },
  {
   "cell_type": "markdown",
   "id": "b7ba93a3",
   "metadata": {},
   "source": [
    "### Write final_sales_{}.csv for all months"
   ]
  },
  {
   "cell_type": "code",
   "execution_count": 12,
   "id": "69f544b8",
   "metadata": {},
   "outputs": [
    {
     "name": "stdout",
     "output_type": "stream",
     "text": [
      "/data/p_dsi/teams2023/team7/final_sales_20180731.csv\n",
      "/data/p_dsi/teams2023/team7/final_sales_20150731.csv\n",
      "/data/p_dsi/teams2023/team7/final_sales_20170831.csv\n",
      "/data/p_dsi/teams2023/team7/final_sales_20170731.csv\n",
      "/data/p_dsi/teams2023/team7/final_sales_20150531.csv\n",
      "/data/p_dsi/teams2023/team7/final_sales_20160131.csv\n",
      "/data/p_dsi/teams2023/team7/final_sales_20151130.csv\n",
      "/data/p_dsi/teams2023/team7/final_sales_20170531.csv\n",
      "/data/p_dsi/teams2023/team7/final_sales_20160331.csv\n",
      "/data/p_dsi/teams2023/team7/final_sales_20170228.csv\n",
      "/data/p_dsi/teams2023/team7/final_sales_20160930.csv\n",
      "/data/p_dsi/teams2023/team7/final_sales_20170131.csv\n",
      "/data/p_dsi/teams2023/team7/final_sales_20180831.csv\n",
      "/data/p_dsi/teams2023/team7/final_sales_20160430.csv\n",
      "/data/p_dsi/teams2023/team7/final_sales_20170331.csv\n",
      "/data/p_dsi/teams2023/team7/final_sales_20171031.csv\n",
      "/data/p_dsi/teams2023/team7/final_sales_20180531.csv\n",
      "/data/p_dsi/teams2023/team7/final_sales_20160831.csv\n",
      "/data/p_dsi/teams2023/team7/final_sales_20170630.csv\n",
      "/data/p_dsi/teams2023/team7/final_sales_20161031.csv\n",
      "/data/p_dsi/teams2023/team7/final_sales_20160630.csv\n",
      "/data/p_dsi/teams2023/team7/final_sales_20170930.csv\n",
      "/data/p_dsi/teams2023/team7/final_sales_20180430.csv\n",
      "/data/p_dsi/teams2023/team7/final_sales_20161231.csv\n",
      "/data/p_dsi/teams2023/team7/final_sales_20171231.csv\n",
      "/data/p_dsi/teams2023/team7/final_sales_20180630.csv\n",
      "/data/p_dsi/teams2023/team7/final_sales_20180228.csv\n",
      "/data/p_dsi/teams2023/team7/final_sales_20180131.csv\n",
      "/data/p_dsi/teams2023/team7/final_sales_20160731.csv\n",
      "/data/p_dsi/teams2023/team7/final_sales_20170430.csv\n",
      "/data/p_dsi/teams2023/team7/final_sales_20150430.csv\n",
      "/data/p_dsi/teams2023/team7/final_sales_20181031.csv\n",
      "/data/p_dsi/teams2023/team7/final_sales_20161130.csv\n",
      "/data/p_dsi/teams2023/team7/final_sales_20180930.csv\n",
      "/data/p_dsi/teams2023/team7/final_sales_20150930.csv\n",
      "/data/p_dsi/teams2023/team7/final_sales_20150831.csv\n",
      "/data/p_dsi/teams2023/team7/final_sales_20160531.csv\n",
      "/data/p_dsi/teams2023/team7/final_sales_20151031.csv\n",
      "/data/p_dsi/teams2023/team7/final_sales_20180331.csv\n",
      "/data/p_dsi/teams2023/team7/final_sales_20160229.csv\n",
      "/data/p_dsi/teams2023/team7/final_sales_20151231.csv\n",
      "/data/p_dsi/teams2023/team7/final_sales_20150630.csv\n",
      "/data/p_dsi/teams2023/team7/final_sales_20171130.csv\n",
      "time_passed: 941.8231976032257\n"
     ]
    }
   ],
   "source": [
    "start_time = time.time()\n",
    "final_sales_dict = dict()\n",
    "\n",
    "for file_name in csv_files:\n",
    "    in_path = \"/data/p_dsi/teams2023/bridgestone_data/data/\" + file_name\n",
    "    sales = pd.read_csv(in_path, sep = \"|\")\n",
    "    final_sales = sales[sales['ARTICLE_ID'].isin(article_ids)]\n",
    "    final_sales_dict[file_name] = final_sales\n",
    "    out_path = \"/data/p_dsi/teams2023/team7/final_\" + file_name\n",
    "    print(out_path)\n",
    "    final_sales.to_csv(out_path)\n",
    "\n",
    "end_time = time.time()\n",
    "time_passed = end_time - start_time\n",
    "print(\"time_passed:\", time_passed)"
   ]
  },
  {
   "cell_type": "markdown",
   "id": "ac2b1477",
   "metadata": {},
   "source": [
    "### Write final_sales_2015.csv, final_sales_2016.csv, final_sales_2017.csv, and final_sales_2018.csv"
   ]
  },
  {
   "cell_type": "code",
   "execution_count": 21,
   "id": "d73399e2",
   "metadata": {},
   "outputs": [
    {
     "data": {
      "text/plain": [
       "[None, None, None, None]"
      ]
     },
     "execution_count": 21,
     "metadata": {},
     "output_type": "execute_result"
    }
   ],
   "source": [
    "years = [2015, 2016, 2017, 2018]\n",
    "[pd.concat([final_sales_dict[key] for key in final_sales_dict.keys() if key.startswith(\"sales_{}\".format(year))]).to_csv(\"/data/p_dsi/teams2023/team7/final_sales_{}.csv\".format(year)) for year in years]"
   ]
  },
  {
   "cell_type": "markdown",
   "id": "193e0a43",
   "metadata": {},
   "source": [
    "### Write final_sales.csv"
   ]
  },
  {
   "cell_type": "code",
   "execution_count": 23,
   "id": "87ac39b0",
   "metadata": {},
   "outputs": [],
   "source": [
    "pd.concat(final_sales_dict.values()).to_csv(\"/data/p_dsi/teams2023/team7/final_sales.csv\")"
   ]
  }
 ],
 "metadata": {
  "kernelspec": {
   "display_name": "Python 3 (ipykernel)",
   "language": "python",
   "name": "python3"
  },
  "language_info": {
   "codemirror_mode": {
    "name": "ipython",
    "version": 3
   },
   "file_extension": ".py",
   "mimetype": "text/x-python",
   "name": "python",
   "nbconvert_exporter": "python",
   "pygments_lexer": "ipython3",
   "version": "3.8.10"
  }
 },
 "nbformat": 4,
 "nbformat_minor": 5
}
