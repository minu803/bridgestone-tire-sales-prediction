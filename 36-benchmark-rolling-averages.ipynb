{
 "cells": [
  {
   "cell_type": "markdown",
   "id": "35287d3a-d5f7-4189-8307-1655dd134693",
   "metadata": {},
   "source": [
    "# 35 Benchmark Model Using Rolling Averages"
   ]
  },
  {
   "cell_type": "code",
   "execution_count": 2,
   "id": "0b3b7e12-eafc-473a-80a9-9f1d97b2999b",
   "metadata": {},
   "outputs": [
    {
     "name": "stdout",
     "output_type": "stream",
     "text": [
      "/Users/jordannieusma/Documents/Documents-Laptop/GitHub\n"
     ]
    }
   ],
   "source": [
    "# %pwd\n",
    "# %cd .."
   ]
  },
  {
   "cell_type": "markdown",
   "id": "69111e2f-1bcd-4e15-a1b3-182309e1d990",
   "metadata": {},
   "source": [
    "## Import packages and set display"
   ]
  },
  {
   "cell_type": "code",
   "execution_count": 57,
   "id": "69740531-89e3-49e1-ab18-8878e89a24e5",
   "metadata": {},
   "outputs": [],
   "source": [
    "# usual packages\n",
    "import pandas as pd\n",
    "import numpy as np\n",
    "#import seaborn as sns\n",
    "import matplotlib.pyplot as plt\n",
    "import plotly.express as px\n",
    "import glob\n",
    "import time\n",
    "import pickle\n",
    "import warnings\n",
    "\n",
    "import bridgestone as b"
   ]
  },
  {
   "cell_type": "code",
   "execution_count": 6,
   "id": "874d67a2-4ef4-4faa-a429-dde13e21bb34",
   "metadata": {},
   "outputs": [],
   "source": [
    "pd.options.display.max_columns = 100\n",
    "pd.options.display.max_rows = 100\n",
    "warnings.filterwarnings(\"ignore\")"
   ]
  },
  {
   "cell_type": "markdown",
   "id": "19d511fb-33d6-4d62-8600-c9766cde0679",
   "metadata": {},
   "source": [
    "## Load data"
   ]
  },
  {
   "cell_type": "code",
   "execution_count": 14,
   "id": "4e52012c-8edc-4bca-b811-5e20e2640907",
   "metadata": {},
   "outputs": [],
   "source": [
    "# Read-in data\n",
    "sales = pd.read_csv(\"final_sales.csv\", parse_dates=[\"DATE\"], \n",
    "                    usecols=[\"ARTICLE_ID\",\"DATE\",\"UNITS\"], \n",
    "                    dtype={\"ARTICLE_ID\":\"category\",\"UNITS\":np.float64},\n",
    "                    low_memory=False)\n",
    "\n",
    "# Sort\n",
    "sales.sort_values(by=[\"DATE\",\"ARTICLE_ID\"], inplace=True)\n",
    "\n",
    "# Group the rows by ARTICLE_ID and month of DATE, and sum the UNITS values\n",
    "temp = sales.groupby(['ARTICLE_ID', pd.Grouper(key='DATE', freq='M')])['UNITS'].sum().reset_index()\n",
    "temp[\"DATE\"] = pd.to_datetime(temp[\"DATE\"])\n",
    "\n",
    "# Create month and year columns\n",
    "temp[\"month\"] = temp[\"DATE\"].dt.month\n",
    "temp[\"year\"] = temp[\"DATE\"].dt.year\n",
    "temp = temp.set_index(\"DATE\")\n",
    "totalMo = temp"
   ]
  },
  {
   "cell_type": "code",
   "execution_count": 16,
   "id": "4e9ed973-961b-45c5-ac7b-ab62b3594aa8",
   "metadata": {},
   "outputs": [
    {
     "name": "stdout",
     "output_type": "stream",
     "text": [
      "Shape totalMo:  (18705, 4)\n",
      "Validate that unique article ids = 435:  435\n"
     ]
    }
   ],
   "source": [
    "print(\"Shape totalMo: \", totalMo.shape)\n",
    "print(\"Validate that unique article ids = 435: \", len(totalMo[\"ARTICLE_ID\"].unique()))"
   ]
  },
  {
   "cell_type": "markdown",
   "id": "619fb957-2815-41f3-b176-4c3aef75a7c0",
   "metadata": {},
   "source": [
    "### Store Aug thru Oct 2018 as separate variables\n",
    "\n",
    "It is useful to set these as variables and have them handy later for comparisons. "
   ]
  },
  {
   "cell_type": "code",
   "execution_count": 58,
   "id": "b345dbe5-4130-4d3b-abfb-ba7e30ef649f",
   "metadata": {},
   "outputs": [
    {
     "name": "stdout",
     "output_type": "stream",
     "text": [
      "Shapes should be 435 x 4:  (435, 4) (435, 4) (435, 4) (435, 4)\n"
     ]
    }
   ],
   "source": [
    "july2018 = totalMo.loc['2018-07']\n",
    "aug2018 = totalMo.loc['2018-08']\n",
    "sept2018 = totalMo.loc['2018-09']\n",
    "oct2018 = totalMo.loc['2018-10']\n",
    "\n",
    "print('Shapes should be 435 x 4: ', july2018.shape, aug2018.shape, sept2018.shape, oct2018.shape)"
   ]
  },
  {
   "cell_type": "markdown",
   "id": "52f21ecd-abc5-486f-bbac-ca4a18ad15c6",
   "metadata": {
    "tags": []
   },
   "source": [
    "## Benchmark 1: Predict Using Avg Last Two Months"
   ]
  },
  {
   "cell_type": "code",
   "execution_count": 45,
   "id": "9b899bef-55d2-4289-b2f2-7310d2202a7f",
   "metadata": {},
   "outputs": [
    {
     "data": {
      "text/html": [
       "<div>\n",
       "<style scoped>\n",
       "    .dataframe tbody tr th:only-of-type {\n",
       "        vertical-align: middle;\n",
       "    }\n",
       "\n",
       "    .dataframe tbody tr th {\n",
       "        vertical-align: top;\n",
       "    }\n",
       "\n",
       "    .dataframe thead th {\n",
       "        text-align: right;\n",
       "    }\n",
       "</style>\n",
       "<table border=\"1\" class=\"dataframe\">\n",
       "  <thead>\n",
       "    <tr style=\"text-align: right;\">\n",
       "      <th></th>\n",
       "      <th>ARTICLE_ID</th>\n",
       "      <th>AugSept2018Avg</th>\n",
       "    </tr>\n",
       "  </thead>\n",
       "  <tbody>\n",
       "    <tr>\n",
       "      <th>0</th>\n",
       "      <td>106242</td>\n",
       "      <td>558.0</td>\n",
       "    </tr>\n",
       "    <tr>\n",
       "      <th>1</th>\n",
       "      <td>106259</td>\n",
       "      <td>683.5</td>\n",
       "    </tr>\n",
       "    <tr>\n",
       "      <th>2</th>\n",
       "      <td>106310</td>\n",
       "      <td>779.0</td>\n",
       "    </tr>\n",
       "    <tr>\n",
       "      <th>3</th>\n",
       "      <td>106497</td>\n",
       "      <td>1739.0</td>\n",
       "    </tr>\n",
       "    <tr>\n",
       "      <th>4</th>\n",
       "      <td>106650</td>\n",
       "      <td>709.5</td>\n",
       "    </tr>\n",
       "    <tr>\n",
       "      <th>...</th>\n",
       "      <td>...</td>\n",
       "      <td>...</td>\n",
       "    </tr>\n",
       "    <tr>\n",
       "      <th>430</th>\n",
       "      <td>98031</td>\n",
       "      <td>365.5</td>\n",
       "    </tr>\n",
       "    <tr>\n",
       "      <th>431</th>\n",
       "      <td>98048</td>\n",
       "      <td>827.5</td>\n",
       "    </tr>\n",
       "    <tr>\n",
       "      <th>432</th>\n",
       "      <td>98065</td>\n",
       "      <td>2638.5</td>\n",
       "    </tr>\n",
       "    <tr>\n",
       "      <th>433</th>\n",
       "      <td>98099</td>\n",
       "      <td>2876.0</td>\n",
       "    </tr>\n",
       "    <tr>\n",
       "      <th>434</th>\n",
       "      <td>98150</td>\n",
       "      <td>2892.0</td>\n",
       "    </tr>\n",
       "  </tbody>\n",
       "</table>\n",
       "<p>435 rows × 2 columns</p>\n",
       "</div>"
      ],
      "text/plain": [
       "    ARTICLE_ID  AugSept2018Avg\n",
       "0       106242           558.0\n",
       "1       106259           683.5\n",
       "2       106310           779.0\n",
       "3       106497          1739.0\n",
       "4       106650           709.5\n",
       "..         ...             ...\n",
       "430      98031           365.5\n",
       "431      98048           827.5\n",
       "432      98065          2638.5\n",
       "433      98099          2876.0\n",
       "434      98150          2892.0\n",
       "\n",
       "[435 rows x 2 columns]"
      ]
     },
     "execution_count": 45,
     "metadata": {},
     "output_type": "execute_result"
    }
   ],
   "source": [
    "# Get the average sales from Aug-Sept 2018\n",
    "temp = pd.merge(aug2018, sept2018, on='ARTICLE_ID').drop(['month_y','year_y'], axis=1)\n",
    "temp['AugSept2018Avg'] = (temp['UNITS_x'] + temp['UNITS_y'])/2\n",
    "avg_last_two_months = temp.drop(['UNITS_x','month_x','year_x','UNITS_y'], axis=1)\n",
    "avg_last_two_months"
   ]
  },
  {
   "cell_type": "code",
   "execution_count": 76,
   "id": "4ff927c9-18ff-446c-aad9-742a81b50a2a",
   "metadata": {},
   "outputs": [
    {
     "name": "stdout",
     "output_type": "stream",
     "text": [
      "WMAPE using last two months:  0.1187478107079956\n"
     ]
    }
   ],
   "source": [
    "# merge predictions and actuals\n",
    "temp = pd.merge(avg_last_two_months, oct2018, on='ARTICLE_ID').rename(columns={'AugSept2018Avg':'Prediction','UNITS':'Actual'}).drop(['month','year'], axis=1)\n",
    "temp['AbsDiff'] = abs(temp['Actual']-temp['Prediction'])\n",
    "\n",
    "# get WMAPE\n",
    "result_last_two_months = b.get_wmape(temp, actuals='Actual', predictions='Prediction')\n",
    "print(\"WMAPE using last two months: \", result_last_two_months)"
   ]
  },
  {
   "cell_type": "markdown",
   "id": "71ed6548-8d9b-4f28-9595-0eda707e5907",
   "metadata": {},
   "source": [
    "## Benchmark 2: Predict Using Avg Last Three Months"
   ]
  },
  {
   "cell_type": "code",
   "execution_count": 73,
   "id": "757e6ac2-aba4-44fc-a6e9-cb8a21974b6f",
   "metadata": {},
   "outputs": [
    {
     "data": {
      "text/html": [
       "<div>\n",
       "<style scoped>\n",
       "    .dataframe tbody tr th:only-of-type {\n",
       "        vertical-align: middle;\n",
       "    }\n",
       "\n",
       "    .dataframe tbody tr th {\n",
       "        vertical-align: top;\n",
       "    }\n",
       "\n",
       "    .dataframe thead th {\n",
       "        text-align: right;\n",
       "    }\n",
       "</style>\n",
       "<table border=\"1\" class=\"dataframe\">\n",
       "  <thead>\n",
       "    <tr style=\"text-align: right;\">\n",
       "      <th></th>\n",
       "      <th>ARTICLE_ID</th>\n",
       "      <th>UNITS_x</th>\n",
       "      <th>UNITS_y</th>\n",
       "      <th>UNITS</th>\n",
       "      <th>month</th>\n",
       "      <th>year</th>\n",
       "      <th>JulyAugSept2018Avg</th>\n",
       "    </tr>\n",
       "  </thead>\n",
       "  <tbody>\n",
       "    <tr>\n",
       "      <th>0</th>\n",
       "      <td>106242</td>\n",
       "      <td>431.0</td>\n",
       "      <td>552.0</td>\n",
       "      <td>564.0</td>\n",
       "      <td>9</td>\n",
       "      <td>2018</td>\n",
       "      <td>516.0</td>\n",
       "    </tr>\n",
       "    <tr>\n",
       "      <th>1</th>\n",
       "      <td>106259</td>\n",
       "      <td>709.0</td>\n",
       "      <td>722.0</td>\n",
       "      <td>645.0</td>\n",
       "      <td>9</td>\n",
       "      <td>2018</td>\n",
       "      <td>692.0</td>\n",
       "    </tr>\n",
       "    <tr>\n",
       "      <th>2</th>\n",
       "      <td>106310</td>\n",
       "      <td>1059.0</td>\n",
       "      <td>1024.0</td>\n",
       "      <td>534.0</td>\n",
       "      <td>9</td>\n",
       "      <td>2018</td>\n",
       "      <td>872.0</td>\n",
       "    </tr>\n",
       "    <tr>\n",
       "      <th>3</th>\n",
       "      <td>106497</td>\n",
       "      <td>1457.0</td>\n",
       "      <td>1713.0</td>\n",
       "      <td>1765.0</td>\n",
       "      <td>9</td>\n",
       "      <td>2018</td>\n",
       "      <td>1645.0</td>\n",
       "    </tr>\n",
       "    <tr>\n",
       "      <th>4</th>\n",
       "      <td>106650</td>\n",
       "      <td>555.0</td>\n",
       "      <td>676.0</td>\n",
       "      <td>743.0</td>\n",
       "      <td>9</td>\n",
       "      <td>2018</td>\n",
       "      <td>658.0</td>\n",
       "    </tr>\n",
       "    <tr>\n",
       "      <th>...</th>\n",
       "      <td>...</td>\n",
       "      <td>...</td>\n",
       "      <td>...</td>\n",
       "      <td>...</td>\n",
       "      <td>...</td>\n",
       "      <td>...</td>\n",
       "      <td>...</td>\n",
       "    </tr>\n",
       "    <tr>\n",
       "      <th>430</th>\n",
       "      <td>98031</td>\n",
       "      <td>408.0</td>\n",
       "      <td>410.0</td>\n",
       "      <td>321.0</td>\n",
       "      <td>9</td>\n",
       "      <td>2018</td>\n",
       "      <td>380.0</td>\n",
       "    </tr>\n",
       "    <tr>\n",
       "      <th>431</th>\n",
       "      <td>98048</td>\n",
       "      <td>979.0</td>\n",
       "      <td>922.0</td>\n",
       "      <td>733.0</td>\n",
       "      <td>9</td>\n",
       "      <td>2018</td>\n",
       "      <td>878.0</td>\n",
       "    </tr>\n",
       "    <tr>\n",
       "      <th>432</th>\n",
       "      <td>98065</td>\n",
       "      <td>2457.0</td>\n",
       "      <td>2799.0</td>\n",
       "      <td>2478.0</td>\n",
       "      <td>9</td>\n",
       "      <td>2018</td>\n",
       "      <td>2578.0</td>\n",
       "    </tr>\n",
       "    <tr>\n",
       "      <th>433</th>\n",
       "      <td>98099</td>\n",
       "      <td>2986.0</td>\n",
       "      <td>2823.0</td>\n",
       "      <td>2929.0</td>\n",
       "      <td>9</td>\n",
       "      <td>2018</td>\n",
       "      <td>2913.0</td>\n",
       "    </tr>\n",
       "    <tr>\n",
       "      <th>434</th>\n",
       "      <td>98150</td>\n",
       "      <td>3131.0</td>\n",
       "      <td>2942.0</td>\n",
       "      <td>2842.0</td>\n",
       "      <td>9</td>\n",
       "      <td>2018</td>\n",
       "      <td>2972.0</td>\n",
       "    </tr>\n",
       "  </tbody>\n",
       "</table>\n",
       "<p>435 rows × 7 columns</p>\n",
       "</div>"
      ],
      "text/plain": [
       "    ARTICLE_ID  UNITS_x  UNITS_y   UNITS  month  year  JulyAugSept2018Avg\n",
       "0       106242    431.0    552.0   564.0      9  2018               516.0\n",
       "1       106259    709.0    722.0   645.0      9  2018               692.0\n",
       "2       106310   1059.0   1024.0   534.0      9  2018               872.0\n",
       "3       106497   1457.0   1713.0  1765.0      9  2018              1645.0\n",
       "4       106650    555.0    676.0   743.0      9  2018               658.0\n",
       "..         ...      ...      ...     ...    ...   ...                 ...\n",
       "430      98031    408.0    410.0   321.0      9  2018               380.0\n",
       "431      98048    979.0    922.0   733.0      9  2018               878.0\n",
       "432      98065   2457.0   2799.0  2478.0      9  2018              2578.0\n",
       "433      98099   2986.0   2823.0  2929.0      9  2018              2913.0\n",
       "434      98150   3131.0   2942.0  2842.0      9  2018              2972.0\n",
       "\n",
       "[435 rows x 7 columns]"
      ]
     },
     "execution_count": 73,
     "metadata": {},
     "output_type": "execute_result"
    }
   ],
   "source": [
    "# Get the average sales from Aug-Sept 2018\n",
    "temp = pd.merge(july2018, aug2018, on='ARTICLE_ID').drop(['month_y','year_y'], axis=1).merge(sept2018, on='ARTICLE_ID').drop(['month_x','year_x'], axis=1)\n",
    "temp['JulyAugSept2018Avg'] = round(((temp['UNITS_x'] + temp['UNITS_y'] + temp['UNITS'])/3), 0)\n",
    "avg_last_three_months = temp.drop(['UNITS_x','UNITS_y','UNITS','month','year'], axis=1)\n",
    "\n",
    "# Check top 5 rows\n",
    "avg_last_three_months.head()"
   ]
  },
  {
   "cell_type": "code",
   "execution_count": 78,
   "id": "006db6f3-1c18-4afc-ac57-cdc701e9081c",
   "metadata": {},
   "outputs": [
    {
     "name": "stdout",
     "output_type": "stream",
     "text": [
      "WMAPE using last three months:  0.13184375742522114\n"
     ]
    }
   ],
   "source": [
    "# Merge predictions and actuals\n",
    "temp = pd.merge(avg_last_three_months, oct2018, on='ARTICLE_ID').rename(columns={'JulyAugSept2018Avg':'Prediction','UNITS':'Actual'}).drop(['month','year'], axis=1)\n",
    "temp['AbsDiff'] = abs(temp['Actual']-temp['Prediction'])\n",
    "\n",
    "# get WMAPE\n",
    "result_last_three_months = b.get_wmape(temp, actuals='Actual', predictions='Prediction')\n",
    "print(\"WMAPE using last three months: \", result_last_three_months)"
   ]
  },
  {
   "cell_type": "markdown",
   "id": "b8afba8d-ca5f-441f-9401-cd9879530e69",
   "metadata": {},
   "source": [
    "Since the WMAPE score using the average of the last two months of sales against October 2018 is lower than using the average last three months of sales, we will use the former as our model benchmark."
   ]
  }
 ],
 "metadata": {
  "kernelspec": {
   "display_name": "Python 3 (ipykernel)",
   "language": "python",
   "name": "python3"
  },
  "language_info": {
   "codemirror_mode": {
    "name": "ipython",
    "version": 3
   },
   "file_extension": ".py",
   "mimetype": "text/x-python",
   "name": "python",
   "nbconvert_exporter": "python",
   "pygments_lexer": "ipython3",
   "version": "3.10.9"
  }
 },
 "nbformat": 4,
 "nbformat_minor": 5
}
